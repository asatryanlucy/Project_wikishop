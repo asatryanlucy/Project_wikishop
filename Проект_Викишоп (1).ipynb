{
 "cells": [
  {
   "cell_type": "markdown",
   "metadata": {
    "toc": true
   },
   "source": [
    "<h1>Содержание<span class=\"tocSkip\"></span></h1>\n",
    "<div class=\"toc\"><ul class=\"toc-item\"><li><span><a href=\"#Подготовка\" data-toc-modified-id=\"Подготовка-1\"><span class=\"toc-item-num\">1&nbsp;&nbsp;</span>Подготовка</a></span><ul class=\"toc-item\"><li><span><a href=\"#Вывод\" data-toc-modified-id=\"Вывод-1.1\"><span class=\"toc-item-num\">1.1&nbsp;&nbsp;</span>Вывод</a></span></li><li><span><a href=\"#Предоброботка-текстовых-данных\" data-toc-modified-id=\"Предоброботка-текстовых-данных-1.2\"><span class=\"toc-item-num\">1.2&nbsp;&nbsp;</span>Предоброботка текстовых данных</a></span></li><li><span><a href=\"#Вывод\" data-toc-modified-id=\"Вывод-1.3\"><span class=\"toc-item-num\">1.3&nbsp;&nbsp;</span>Вывод</a></span></li></ul></li><li><span><a href=\"#Обучение\" data-toc-modified-id=\"Обучение-2\"><span class=\"toc-item-num\">2&nbsp;&nbsp;</span>Обучение</a></span><ul class=\"toc-item\"><li><span><a href=\"#Вывод\" data-toc-modified-id=\"Вывод-2.1\"><span class=\"toc-item-num\">2.1&nbsp;&nbsp;</span>Вывод</a></span></li><li><span><a href=\"#LogisticRegression\" data-toc-modified-id=\"LogisticRegression-2.2\"><span class=\"toc-item-num\">2.2&nbsp;&nbsp;</span>LogisticRegression</a></span></li><li><span><a href=\"#Вывод\" data-toc-modified-id=\"Вывод-2.3\"><span class=\"toc-item-num\">2.3&nbsp;&nbsp;</span>Вывод</a></span></li><li><span><a href=\"#DecisionTreeClassifier\" data-toc-modified-id=\"DecisionTreeClassifier-2.4\"><span class=\"toc-item-num\">2.4&nbsp;&nbsp;</span>DecisionTreeClassifier</a></span></li><li><span><a href=\"#Вывод\" data-toc-modified-id=\"Вывод-2.5\"><span class=\"toc-item-num\">2.5&nbsp;&nbsp;</span>Вывод</a></span></li></ul></li><li><span><a href=\"#RandomForestClassifier\" data-toc-modified-id=\"RandomForestClassifier-3\"><span class=\"toc-item-num\">3&nbsp;&nbsp;</span>RandomForestClassifier</a></span></li><li><span><a href=\"#Выводы\" data-toc-modified-id=\"Выводы-4\"><span class=\"toc-item-num\">4&nbsp;&nbsp;</span>Выводы</a></span></li><li><span><a href=\"#Чек-лист-проверки\" data-toc-modified-id=\"Чек-лист-проверки-5\"><span class=\"toc-item-num\">5&nbsp;&nbsp;</span>Чек-лист проверки</a></span></li></ul></div>"
   ]
  },
  {
   "cell_type": "markdown",
   "metadata": {},
   "source": [
    "# Проект для «Викишоп»"
   ]
  },
  {
   "cell_type": "markdown",
   "metadata": {},
   "source": [
    "Интернет-магазин «Викишоп» запускает новый сервис. Теперь пользователи могут редактировать и дополнять описания товаров, как в вики-сообществах. То есть клиенты предлагают свои правки и комментируют изменения других. Магазину нужен инструмент, который будет искать токсичные комментарии и отправлять их на модерацию. \n",
    "\n",
    "Обучите модель классифицировать комментарии на позитивные и негативные. В вашем распоряжении набор данных с разметкой о токсичности правок.\n",
    "\n",
    "Постройте модель со значением метрики качества *F1* не меньше 0.75. \n",
    "\n",
    "**Инструкция по выполнению проекта**\n",
    "\n",
    "1. Загрузите и подготовьте данные.\n",
    "2. Обучите разные модели. \n",
    "3. Сделайте выводы.\n",
    "\n",
    "Для выполнения проекта применять *BERT* необязательно, но вы можете попробовать.\n",
    "\n",
    "**Описание данных**\n",
    "\n",
    "Данные находятся в файле `toxic_comments.csv`. Столбец *text* в нём содержит текст комментария, а *toxic* — целевой признак."
   ]
  },
  {
   "cell_type": "markdown",
   "metadata": {},
   "source": [
    "## Подготовка"
   ]
  },
  {
   "cell_type": "code",
   "execution_count": 1,
   "metadata": {},
   "outputs": [
    {
     "name": "stdout",
     "output_type": "stream",
     "text": [
      "Collecting package metadata (current_repodata.json): ...working... done\n",
      "Solving environment: ...working... done\n",
      "\n",
      "# All requested packages already installed.\n",
      "\n",
      "\n",
      "Note: you may need to restart the kernel to use updated packages.\n"
     ]
    }
   ],
   "source": [
    "conda install -c conda-forge lightgbm -q"
   ]
  },
  {
   "cell_type": "code",
   "execution_count": 2,
   "metadata": {
    "scrolled": true
   },
   "outputs": [],
   "source": [
    "!pip install phik -q\n",
    "!pip install nltk -q \n",
    "!pip install transformers -q\n",
    "!pip install tqdm -q \n",
    "!pip install lightgbm -q\n",
    "!pip install statsmodels -q"
   ]
  },
  {
   "cell_type": "code",
   "execution_count": 3,
   "metadata": {},
   "outputs": [
    {
     "data": {
      "text/html": [
       "<style>.container { width:90% !important; }</style>"
      ],
      "text/plain": [
       "<IPython.core.display.HTML object>"
      ]
     },
     "metadata": {},
     "output_type": "display_data"
    }
   ],
   "source": [
    "from IPython.display import display, HTML\n",
    "display(HTML(\"<style>.container { width:90% !important; }</style>\"))"
   ]
  },
  {
   "cell_type": "code",
   "execution_count": 4,
   "metadata": {},
   "outputs": [
    {
     "name": "stderr",
     "output_type": "stream",
     "text": [
      "None of PyTorch, TensorFlow >= 2.0, or Flax have been found. Models won't be available and only tokenizers, configuration and file/data utilities can be used.\n",
      "[nltk_data] Downloading package stopwords to\n",
      "[nltk_data]     /Users/bugagashechka/nltk_data...\n",
      "[nltk_data]   Package stopwords is already up-to-date!\n"
     ]
    }
   ],
   "source": [
    "#Загружаем библтотеки\n",
    "import pandas as pd\n",
    "import nltk\n",
    "import matplotlib.pyplot as plt\n",
    "import seaborn as sns\n",
    "import os\n",
    "import re\n",
    "import transformers \n",
    "import statsmodels.api as sm\n",
    "import sklearn\n",
    "from tqdm import notebook\n",
    "from nltk.corpus import stopwords as nltk_stopwords\n",
    "from nltk.stem import WordNetLemmatizer \n",
    "#from pymystem3 import Mystem\n",
    "from sklearn.compose import ColumnTransformer\n",
    "from sklearn.linear_model import LogisticRegression\n",
    "from sklearn.tree import DecisionTreeClassifier\n",
    "from sklearn.ensemble import RandomForestClassifier\n",
    "from lightgbm import LGBMClassifier\n",
    "from sklearn.feature_extraction.text import CountVectorizer,TfidfVectorizer\n",
    "from sklearn.model_selection import train_test_split,cross_val_score,RandomizedSearchCV,GridSearchCV\n",
    "from sklearn.metrics import f1_score,classification_report\n",
    "from sklearn.pipeline import Pipeline\n",
    "from phik.report import plot_correlation_matrix\n",
    "nltk.download('stopwords')\n",
    "stopwords = set(nltk_stopwords.words('english'))\n",
    "RANDOM_STATE = 42\n",
    "TEST_SIZE = 0.2\n",
    "plt.rcParams[\"figure.figsize\"] = (8,8)\n",
    "#pd.set_option('display.max_rows', None)\n",
    "#pd.options.display.max_colwidth = 500\n",
    "import warnings\n",
    "warnings.filterwarnings(\"ignore\")"
   ]
  },
  {
   "cell_type": "code",
   "execution_count": 9,
   "metadata": {},
   "outputs": [],
   "source": [
    "#Загружаем данные\n",
    "pth1 = r'/datasets/toxic_comments.csv'\n",
    "pth2 = r'/Users/bugagashechka/Downloads/toxic_comments.csv'\n",
    "\n",
    "if os.path.exists(pth1):\n",
    "    data = pd.read_csv(pth1,index_col='Unnamed: 0')\n",
    "elif os.path.exists(pth2):\n",
    "    data_one = pd.read_csv(pth2,index_col='Unnamed: 0')\n",
    "else:\n",
    "    print('Something is wrong')"
   ]
  },
  {
   "cell_type": "code",
   "execution_count": 11,
   "metadata": {
    "scrolled": true
   },
   "outputs": [
    {
     "data": {
      "text/html": [
       "<div>\n",
       "<style scoped>\n",
       "    .dataframe tbody tr th:only-of-type {\n",
       "        vertical-align: middle;\n",
       "    }\n",
       "\n",
       "    .dataframe tbody tr th {\n",
       "        vertical-align: top;\n",
       "    }\n",
       "\n",
       "    .dataframe thead th {\n",
       "        text-align: right;\n",
       "    }\n",
       "</style>\n",
       "<table border=\"1\" class=\"dataframe\">\n",
       "  <thead>\n",
       "    <tr style=\"text-align: right;\">\n",
       "      <th></th>\n",
       "      <th>text</th>\n",
       "      <th>toxic</th>\n",
       "    </tr>\n",
       "  </thead>\n",
       "  <tbody>\n",
       "    <tr>\n",
       "      <th>133088</th>\n",
       "      <td>:Phoenix Card\\nA tag has been placed on Phoeni...</td>\n",
       "      <td>0</td>\n",
       "    </tr>\n",
       "    <tr>\n",
       "      <th>53005</th>\n",
       "      <td>You know I think it is, she is after all Calif...</td>\n",
       "      <td>0</td>\n",
       "    </tr>\n",
       "    <tr>\n",
       "      <th>147383</th>\n",
       "      <td>Additions of http://.MusaliaMudavadi.com  \\nPl...</td>\n",
       "      <td>0</td>\n",
       "    </tr>\n",
       "    <tr>\n",
       "      <th>52760</th>\n",
       "      <td>\"\\n\\nOjai Valley\\nI removed the following:\\nNo...</td>\n",
       "      <td>0</td>\n",
       "    </tr>\n",
       "    <tr>\n",
       "      <th>141113</th>\n",
       "      <td>Under personal life... \\n\\nI would add that Al...</td>\n",
       "      <td>0</td>\n",
       "    </tr>\n",
       "    <tr>\n",
       "      <th>75642</th>\n",
       "      <td>As the only reasonable mod I've run into aroun...</td>\n",
       "      <td>0</td>\n",
       "    </tr>\n",
       "    <tr>\n",
       "      <th>77268</th>\n",
       "      <td>Moe Salem  user askandrany 1 \\nPlease could yo...</td>\n",
       "      <td>0</td>\n",
       "    </tr>\n",
       "    <tr>\n",
       "      <th>49160</th>\n",
       "      <td>\"\\n\\n My Z! ) \\n\\nHow are you doing, my dear Z...</td>\n",
       "      <td>0</td>\n",
       "    </tr>\n",
       "    <tr>\n",
       "      <th>145163</th>\n",
       "      <td>\"\\n\\nMany people my self included abstained fr...</td>\n",
       "      <td>0</td>\n",
       "    </tr>\n",
       "    <tr>\n",
       "      <th>36768</th>\n",
       "      <td>\"\\n\\nWhy do you think that animal liberation m...</td>\n",
       "      <td>0</td>\n",
       "    </tr>\n",
       "  </tbody>\n",
       "</table>\n",
       "</div>"
      ],
      "text/plain": [
       "                                                     text  toxic\n",
       "133088  :Phoenix Card\\nA tag has been placed on Phoeni...      0\n",
       "53005   You know I think it is, she is after all Calif...      0\n",
       "147383  Additions of http://.MusaliaMudavadi.com  \\nPl...      0\n",
       "52760   \"\\n\\nOjai Valley\\nI removed the following:\\nNo...      0\n",
       "141113  Under personal life... \\n\\nI would add that Al...      0\n",
       "75642   As the only reasonable mod I've run into aroun...      0\n",
       "77268   Moe Salem  user askandrany 1 \\nPlease could yo...      0\n",
       "49160   \"\\n\\n My Z! ) \\n\\nHow are you doing, my dear Z...      0\n",
       "145163  \"\\n\\nMany people my self included abstained fr...      0\n",
       "36768   \"\\n\\nWhy do you think that animal liberation m...      0"
      ]
     },
     "metadata": {},
     "output_type": "display_data"
    },
    {
     "name": "stdout",
     "output_type": "stream",
     "text": [
      "\n",
      "<class 'pandas.core.frame.DataFrame'>\n",
      "Index: 159292 entries, 0 to 159450\n",
      "Data columns (total 2 columns):\n",
      " #   Column  Non-Null Count   Dtype \n",
      "---  ------  --------------   ----- \n",
      " 0   text    159292 non-null  object\n",
      " 1   toxic   159292 non-null  int64 \n",
      "dtypes: int64(1), object(1)\n",
      "memory usage: 3.6+ MB\n"
     ]
    },
    {
     "data": {
      "text/plain": [
       "None"
      ]
     },
     "metadata": {},
     "output_type": "display_data"
    },
    {
     "name": "stdout",
     "output_type": "stream",
     "text": [
      "\n"
     ]
    },
    {
     "data": {
      "text/plain": [
       "0"
      ]
     },
     "metadata": {},
     "output_type": "display_data"
    },
    {
     "name": "stdout",
     "output_type": "stream",
     "text": [
      "\n"
     ]
    },
    {
     "data": {
      "text/html": [
       "<div>\n",
       "<style scoped>\n",
       "    .dataframe tbody tr th:only-of-type {\n",
       "        vertical-align: middle;\n",
       "    }\n",
       "\n",
       "    .dataframe tbody tr th {\n",
       "        vertical-align: top;\n",
       "    }\n",
       "\n",
       "    .dataframe thead th {\n",
       "        text-align: right;\n",
       "    }\n",
       "</style>\n",
       "<table border=\"1\" class=\"dataframe\">\n",
       "  <thead>\n",
       "    <tr style=\"text-align: right;\">\n",
       "      <th></th>\n",
       "      <th>toxic</th>\n",
       "    </tr>\n",
       "  </thead>\n",
       "  <tbody>\n",
       "    <tr>\n",
       "      <th>count</th>\n",
       "      <td>159292.000000</td>\n",
       "    </tr>\n",
       "    <tr>\n",
       "      <th>mean</th>\n",
       "      <td>0.101612</td>\n",
       "    </tr>\n",
       "    <tr>\n",
       "      <th>std</th>\n",
       "      <td>0.302139</td>\n",
       "    </tr>\n",
       "    <tr>\n",
       "      <th>min</th>\n",
       "      <td>0.000000</td>\n",
       "    </tr>\n",
       "    <tr>\n",
       "      <th>25%</th>\n",
       "      <td>0.000000</td>\n",
       "    </tr>\n",
       "    <tr>\n",
       "      <th>50%</th>\n",
       "      <td>0.000000</td>\n",
       "    </tr>\n",
       "    <tr>\n",
       "      <th>75%</th>\n",
       "      <td>0.000000</td>\n",
       "    </tr>\n",
       "    <tr>\n",
       "      <th>max</th>\n",
       "      <td>1.000000</td>\n",
       "    </tr>\n",
       "  </tbody>\n",
       "</table>\n",
       "</div>"
      ],
      "text/plain": [
       "               toxic\n",
       "count  159292.000000\n",
       "mean        0.101612\n",
       "std         0.302139\n",
       "min         0.000000\n",
       "25%         0.000000\n",
       "50%         0.000000\n",
       "75%         0.000000\n",
       "max         1.000000"
      ]
     },
     "metadata": {},
     "output_type": "display_data"
    },
    {
     "name": "stdout",
     "output_type": "stream",
     "text": [
      "\n"
     ]
    }
   ],
   "source": [
    "#Изучаем загруженные файлы\n",
    "display(data_one.sample(10))\n",
    "print()\n",
    "display(data_one.info())\n",
    "print()\n",
    "display(data_one.duplicated().sum())\n",
    "print()\n",
    "display(data_one.describe())\n",
    "print()"
   ]
  },
  {
   "cell_type": "code",
   "execution_count": 12,
   "metadata": {},
   "outputs": [
    {
     "data": {
      "text/html": [
       "<div>\n",
       "<style scoped>\n",
       "    .dataframe tbody tr th:only-of-type {\n",
       "        vertical-align: middle;\n",
       "    }\n",
       "\n",
       "    .dataframe tbody tr th {\n",
       "        vertical-align: top;\n",
       "    }\n",
       "\n",
       "    .dataframe thead th {\n",
       "        text-align: right;\n",
       "    }\n",
       "</style>\n",
       "<table border=\"1\" class=\"dataframe\">\n",
       "  <thead>\n",
       "    <tr style=\"text-align: right;\">\n",
       "      <th></th>\n",
       "      <th>0</th>\n",
       "    </tr>\n",
       "  </thead>\n",
       "  <tbody>\n",
       "    <tr>\n",
       "      <th>text</th>\n",
       "      <td>0</td>\n",
       "    </tr>\n",
       "    <tr>\n",
       "      <th>toxic</th>\n",
       "      <td>0</td>\n",
       "    </tr>\n",
       "  </tbody>\n",
       "</table>\n",
       "</div>"
      ],
      "text/plain": [
       "       0\n",
       "text   0\n",
       "toxic  0"
      ]
     },
     "metadata": {},
     "output_type": "display_data"
    }
   ],
   "source": [
    "#Проверяем пропуски и дубликаты\n",
    "display(data_one.isna().sum().to_frame())"
   ]
  },
  {
   "cell_type": "code",
   "execution_count": 13,
   "metadata": {},
   "outputs": [
    {
     "data": {
      "image/png": "[encoded data removed]",
      "text/plain": [
       "<Figure size 800x800 with 1 Axes>"
      ]
     },
     "metadata": {},
     "output_type": "display_data"
    }
   ],
   "source": [
    "#Получаем график целевого признака\n",
    "sns.countplot(data=data_one, x='toxic')\n",
    "plt.title('Coments')\n",
    "plt.show()"
   ]
  },
  {
   "cell_type": "markdown",
   "metadata": {},
   "source": [
    "### Вывод\n",
    "\n",
    "1. Загрузила библиотеки\n",
    "\n",
    "2. Загрузила данные. Поменяла индекс на колонку \"Column:0\". \n",
    "\n",
    "3. Проверила данные на пропуски и дубликаты - отсутсвют. Есть два типа дпнных \"int, object\".\n",
    "\n",
    "4. Получила график целевого признака. Большинство не токсичные коментарии."
   ]
  },
  {
   "cell_type": "markdown",
   "metadata": {},
   "source": [
    "### Предоброботка текстовых данных"
   ]
  },
  {
   "cell_type": "code",
   "execution_count": 15,
   "metadata": {},
   "outputs": [
    {
     "name": "stderr",
     "output_type": "stream",
     "text": [
      "[nltk_data] Downloading package punkt to\n",
      "[nltk_data]     /Users/bugagashechka/nltk_data...\n",
      "[nltk_data]   Unzipping tokenizers/punkt.zip.\n"
     ]
    },
    {
     "data": {
      "text/plain": [
       "0    Explanation Why the edits made under my userna...\n",
       "1    D'aww ! He match this background colour I 'm s...\n",
       "2    Hey man , I 'm really not trying to edit war ....\n",
       "3    `` More I ca n't make any real suggestion on i...\n",
       "4    You , sir , are my hero . Any chance you remem...\n",
       "Name: text, dtype: object"
      ]
     },
     "metadata": {},
     "output_type": "display_data"
    },
    {
     "name": "stdout",
     "output_type": "stream",
     "text": [
      "CPU times: user 42 s, sys: 121 ms, total: 42.1 s\n",
      "Wall time: 43.8 s\n"
     ]
    }
   ],
   "source": [
    "%%time\n",
    "#Лемитизируем данные с помощью WordNetLemmatizer()\n",
    "nltk.download('punkt')\n",
    "m = WordNetLemmatizer()\n",
    "\n",
    "def lemmatize(text):\n",
    "    word_list = nltk.word_tokenize(text)\n",
    "    lemm_list = [m.lemmatize(w) for w in word_list]\n",
    "    lemm_text = \" \".join(lemm_list)\n",
    "    return lemm_text\n",
    "\n",
    "data_one['text'] = data_one['text'].apply(lemmatize)\n",
    "display(data_one['text'].head(5))"
   ]
  },
  {
   "cell_type": "code",
   "execution_count": 16,
   "metadata": {
    "scrolled": true
   },
   "outputs": [
    {
     "data": {
      "text/plain": [
       "0    Explanation Why the edits made under my userna...\n",
       "1    D aww He match this background colour I m seem...\n",
       "2    Hey man I m really not trying to edit war It s...\n",
       "3    More I ca n t make any real suggestion on impr...\n",
       "4    You sir are my hero Any chance you remember wh...\n",
       "Name: text, dtype: object"
      ]
     },
     "metadata": {},
     "output_type": "display_data"
    },
    {
     "name": "stdout",
     "output_type": "stream",
     "text": [
      "CPU times: user 1.03 s, sys: 13.6 ms, total: 1.05 s\n",
      "Wall time: 1.05 s\n"
     ]
    }
   ],
   "source": [
    "%%time\n",
    "#Очищаем данные с помощью регулярных выражений \n",
    "def new_text(text):\n",
    "    new_list = re.sub(r'[^a-zA-Z ]', ' ', text)\n",
    "    new_text = \" \".join(new_list.split())\n",
    "    return new_text\n",
    "\n",
    "data_one['text'] = data_one['text'].apply(new_text)\n",
    "display(data_one['text'].head(5))"
   ]
  },
  {
   "cell_type": "code",
   "execution_count": 17,
   "metadata": {},
   "outputs": [
    {
     "name": "stdout",
     "output_type": "stream",
     "text": [
      "Явные дубликаты: 1147\n",
      "Явные дубликаты: 0\n"
     ]
    }
   ],
   "source": [
    "#Проверяем на явные дубликаты\n",
    "print('Явные дубликаты: {}'.format(data_one.duplicated().sum()))\n",
    "data_one.drop_duplicates(inplace=True)\n",
    "print('Явные дубликаты: {}'.format(data_one.duplicated().sum()))    "
   ]
  },
  {
   "cell_type": "markdown",
   "metadata": {},
   "source": [
    "### Вывод\n",
    "\n",
    "1. Очистила текст от лишних данных.\n",
    "\n",
    "2. Лемитизировала данные с помощью WordNetLemmatizer()( Mystem работал очень медленно).\n",
    "\n",
    "3. Удалила дубликаты"
   ]
  },
  {
   "cell_type": "markdown",
   "metadata": {},
   "source": [
    "## Обучение"
   ]
  },
  {
   "cell_type": "code",
   "execution_count": 19,
   "metadata": {},
   "outputs": [],
   "source": [
    "#Создаём корпус из текстов\n",
    "corpus = data_one['text'].values"
   ]
  },
  {
   "cell_type": "code",
   "execution_count": 20,
   "metadata": {},
   "outputs": [
    {
     "name": "stdout",
     "output_type": "stream",
     "text": [
      "X_train (126516,), X_test (31629,), y_train (126516,), y_test (31629,)\n",
      "CPU times: user 21.3 ms, sys: 4.14 ms, total: 25.4 ms\n",
      "Wall time: 23 ms\n"
     ]
    }
   ],
   "source": [
    "%%time\n",
    "#Разделяем данные на train и test.\n",
    "features = corpus\n",
    "target = data_one['toxic']\n",
    "X_train,X_test,y_train,y_test = train_test_split(features,target,test_size=TEST_SIZE,random_state=RANDOM_STATE)\n",
    "\n",
    "print('X_train {}, X_test {}, y_train {}, y_test {}'.format(X_train.shape,X_test.shape,y_train.shape,y_test.shape))"
   ]
  },
  {
   "cell_type": "markdown",
   "metadata": {},
   "source": [
    "### Вывод\n",
    "Создала корпус признков. Разделила на train и test выборки. Расчёт TF-IDF сделаю в пайплайне.\n",
    "Буду исползовать 3 модели для обучения. По скольку в одном пайплайне обучение идёт очень долго, буду обучать по одному.\n",
    "\n",
    "1. LogisticRegression\n",
    "\n",
    "2. DecisionTreeClassifier\n",
    "\n",
    "3. RandomForestClassifier"
   ]
  },
  {
   "cell_type": "markdown",
   "metadata": {},
   "source": [
    "### LogisticRegression"
   ]
  },
  {
   "cell_type": "code",
   "execution_count": 40,
   "metadata": {},
   "outputs": [
    {
     "name": "stdout",
     "output_type": "stream",
     "text": [
      "CPU times: user 48 µs, sys: 2 µs, total: 50 µs\n",
      "Wall time: 54.8 µs\n"
     ]
    }
   ],
   "source": [
    "%%time\n",
    "# создаём итоговый пайплайн и параметры.Испльзуем GridSearchCV для поиска лучших параметров\n",
    "pipe_lr = Pipeline([('tfidf', TfidfVectorizer(stop_words='english', sublinear_tf=True)),\n",
    "                       ('lr', LogisticRegression())])\n",
    "param_lr = [\n",
    "              {'lr__solver': ('newton-cg', 'liblinear'),\n",
    "               'lr__C': range(8,10),\n",
    "               'lr__random_state': ([42]),\n",
    "               'lr__max_iter': ([500]),\n",
    "              'lr__class_weight': (['balanced']),\n",
    "               'tfidf__min_df': range(1, 3, 1)\n",
    "               }]\n",
    "\n"
   ]
  },
  {
   "cell_type": "code",
   "execution_count": 41,
   "metadata": {},
   "outputs": [
    {
     "name": "stdout",
     "output_type": "stream",
     "text": [
      "Лучшая модель и её параметры:\n",
      "\n",
      " Pipeline(steps=[('tfidf',\n",
      "                 TfidfVectorizer(stop_words='english', sublinear_tf=True)),\n",
      "                ('lr',\n",
      "                 LogisticRegression(C=9, class_weight='balanced', max_iter=500,\n",
      "                                    random_state=42, solver='newton-cg'))])\n",
      "Метрика лучшей модели на тренировочной выборке:, 0.76\n",
      "CPU times: user 4.49 s, sys: 743 ms, total: 5.24 s\n",
      "Wall time: 20.4 s\n"
     ]
    }
   ],
   "source": [
    "%%time\n",
    "#Испльзуем GridSearchCV для поиска лучших параметров\n",
    "grid_lr = GridSearchCV(pipe_lr, param_lr, scoring='f1', cv=3, n_jobs=-1,error_score = 'raise')\n",
    "\n",
    "grid_lr.fit(X_train, y_train)\n",
    "\n",
    "print('Лучшая модель и её параметры:\\n\\n', grid_lr.best_estimator_)\n",
    "print (f'Метрика лучшей модели на тренировочной выборке:, {round((grid_lr.best_score_),2)}')"
   ]
  },
  {
   "cell_type": "code",
   "execution_count": 42,
   "metadata": {
    "scrolled": true
   },
   "outputs": [
    {
     "data": {
      "text/html": [
       "<style>#sk-container-id-1 {color: black;}#sk-container-id-1 pre{padding: 0;}#sk-container-id-1 div.sk-toggleable {background-color: white;}#sk-container-id-1 label.sk-toggleable__label {cursor: pointer;display: block;width: 100%;margin-bottom: 0;padding: 0.3em;box-sizing: border-box;text-align: center;}#sk-container-id-1 label.sk-toggleable__label-arrow:before {content: \"▸\";float: left;margin-right: 0.25em;color: #696969;}#sk-container-id-1 label.sk-toggleable__label-arrow:hover:before {color: black;}#sk-container-id-1 div.sk-estimator:hover label.sk-toggleable__label-arrow:before {color: black;}#sk-container-id-1 div.sk-toggleable__content {max-height: 0;max-width: 0;overflow: hidden;text-align: left;background-color: #f0f8ff;}#sk-container-id-1 div.sk-toggleable__content pre {margin: 0.2em;color: black;border-radius: 0.25em;background-color: #f0f8ff;}#sk-container-id-1 input.sk-toggleable__control:checked~div.sk-toggleable__content {max-height: 200px;max-width: 100%;overflow: auto;}#sk-container-id-1 input.sk-toggleable__control:checked~label.sk-toggleable__label-arrow:before {content: \"▾\";}#sk-container-id-1 div.sk-estimator input.sk-toggleable__control:checked~label.sk-toggleable__label {background-color: #d4ebff;}#sk-container-id-1 div.sk-label input.sk-toggleable__control:checked~label.sk-toggleable__label {background-color: #d4ebff;}#sk-container-id-1 input.sk-hidden--visually {border: 0;clip: rect(1px 1px 1px 1px);clip: rect(1px, 1px, 1px, 1px);height: 1px;margin: -1px;overflow: hidden;padding: 0;position: absolute;width: 1px;}#sk-container-id-1 div.sk-estimator {font-family: monospace;background-color: #f0f8ff;border: 1px dotted black;border-radius: 0.25em;box-sizing: border-box;margin-bottom: 0.5em;}#sk-container-id-1 div.sk-estimator:hover {background-color: #d4ebff;}#sk-container-id-1 div.sk-parallel-item::after {content: \"\";width: 100%;border-bottom: 1px solid gray;flex-grow: 1;}#sk-container-id-1 div.sk-label:hover label.sk-toggleable__label {background-color: #d4ebff;}#sk-container-id-1 div.sk-serial::before {content: \"\";position: absolute;border-left: 1px solid gray;box-sizing: border-box;top: 0;bottom: 0;left: 50%;z-index: 0;}#sk-container-id-1 div.sk-serial {display: flex;flex-direction: column;align-items: center;background-color: white;padding-right: 0.2em;padding-left: 0.2em;position: relative;}#sk-container-id-1 div.sk-item {position: relative;z-index: 1;}#sk-container-id-1 div.sk-parallel {display: flex;align-items: stretch;justify-content: center;background-color: white;position: relative;}#sk-container-id-1 div.sk-item::before, #sk-container-id-1 div.sk-parallel-item::before {content: \"\";position: absolute;border-left: 1px solid gray;box-sizing: border-box;top: 0;bottom: 0;left: 50%;z-index: -1;}#sk-container-id-1 div.sk-parallel-item {display: flex;flex-direction: column;z-index: 1;position: relative;background-color: white;}#sk-container-id-1 div.sk-parallel-item:first-child::after {align-self: flex-end;width: 50%;}#sk-container-id-1 div.sk-parallel-item:last-child::after {align-self: flex-start;width: 50%;}#sk-container-id-1 div.sk-parallel-item:only-child::after {width: 0;}#sk-container-id-1 div.sk-dashed-wrapped {border: 1px dashed gray;margin: 0 0.4em 0.5em 0.4em;box-sizing: border-box;padding-bottom: 0.4em;background-color: white;}#sk-container-id-1 div.sk-label label {font-family: monospace;font-weight: bold;display: inline-block;line-height: 1.2em;}#sk-container-id-1 div.sk-label-container {text-align: center;}#sk-container-id-1 div.sk-container {/* jupyter's `normalize.less` sets `[hidden] { display: none; }` but bootstrap.min.css set `[hidden] { display: none !important; }` so we also need the `!important` here to be able to override the default hidden behavior on the sphinx rendered scikit-learn.org. See: https://github.com/scikit-learn/scikit-learn/issues/21755 */display: inline-block !important;position: relative;}#sk-container-id-1 div.sk-text-repr-fallback {display: none;}</style><div id=\"sk-container-id-1\" class=\"sk-top-container\"><div class=\"sk-text-repr-fallback\"><pre>LogisticRegression(C=9, class_weight=&#x27;balanced&#x27;, max_iter=500, random_state=42,\n",
       "                   solver=&#x27;newton-cg&#x27;)</pre><b>In a Jupyter environment, please rerun this cell to show the HTML representation or trust the notebook. <br />On GitHub, the HTML representation is unable to render, please try loading this page with nbviewer.org.</b></div><div class=\"sk-container\" hidden><div class=\"sk-item\"><div class=\"sk-estimator sk-toggleable\"><input class=\"sk-toggleable__control sk-hidden--visually\" id=\"sk-estimator-id-1\" type=\"checkbox\" checked><label for=\"sk-estimator-id-1\" class=\"sk-toggleable__label sk-toggleable__label-arrow\">LogisticRegression</label><div class=\"sk-toggleable__content\"><pre>LogisticRegression(C=9, class_weight=&#x27;balanced&#x27;, max_iter=500, random_state=42,\n",
       "                   solver=&#x27;newton-cg&#x27;)</pre></div></div></div></div></div>"
      ],
      "text/plain": [
       "LogisticRegression(C=9, class_weight='balanced', max_iter=500, random_state=42,\n",
       "                   solver='newton-cg')"
      ]
     },
     "execution_count": 42,
     "metadata": {},
     "output_type": "execute_result"
    }
   ],
   "source": [
    "#Сохраняем модель в lr_model\n",
    "best_model_lr = grid_lr.best_estimator_\n",
    "lr_model = best_model_lr.named_steps['lr']\n",
    "lr_model"
   ]
  },
  {
   "cell_type": "code",
   "execution_count": 43,
   "metadata": {},
   "outputs": [
    {
     "name": "stdout",
     "output_type": "stream",
     "text": [
      "F1 тестовых данных 0.77\n",
      "Отчет о классификации               precision    recall  f1-score   support\n",
      "\n",
      "           0       0.98      0.96      0.97     28401\n",
      "           1       0.72      0.83      0.77      3228\n",
      "\n",
      "    accuracy                           0.95     31629\n",
      "   macro avg       0.85      0.90      0.87     31629\n",
      "weighted avg       0.95      0.95      0.95     31629\n",
      "\n"
     ]
    }
   ],
   "source": [
    "#тестирование\n",
    "predictions_lr = grid_lr.predict(X_test)\n",
    "lr_test = f1_score(y_test, predictions_lr)\n",
    "print('F1 тестовых данных {}'.format(round(lr_test,2)))"
   ]
  },
  {
   "cell_type": "markdown",
   "metadata": {},
   "source": [
    "### Вывод\n",
    "\n",
    "На трен. выборке LogisticRegression с параметрами C=9, class_weight='balanced', random_state=42, solver='newton-cg' метрика f1 получилась 0.76. На тестовых данных 0.77."
   ]
  },
  {
   "cell_type": "markdown",
   "metadata": {},
   "source": [
    "### DecisionTreeClassifier "
   ]
  },
  {
   "cell_type": "code",
   "execution_count": 44,
   "metadata": {},
   "outputs": [
    {
     "name": "stdout",
     "output_type": "stream",
     "text": [
      "CPU times: user 67 µs, sys: 128 µs, total: 195 µs\n",
      "Wall time: 199 µs\n"
     ]
    }
   ],
   "source": [
    "%%time\n",
    "# создаём итоговый пайплайн и параметры.Испльзуем GridSearchCV для поиска лучших параметров\n",
    "pipe_dt = Pipeline([('tfidf', TfidfVectorizer(stop_words='english', sublinear_tf=True)),\n",
    "                       ('dt', DecisionTreeClassifier())])\n",
    "param_dt = [\n",
    "              {'dt__random_state': ([42]),\n",
    "               'dt__max_depth': list(range(1,25)),\n",
    "               'dt__class_weight': (['balanced']),\n",
    "               }]\n",
    "\n"
   ]
  },
  {
   "cell_type": "code",
   "execution_count": 45,
   "metadata": {},
   "outputs": [
    {
     "name": "stdout",
     "output_type": "stream",
     "text": [
      "Лучшая модель и её параметры:\n",
      "\n",
      " Pipeline(steps=[('tfidf',\n",
      "                 TfidfVectorizer(stop_words='english', sublinear_tf=True)),\n",
      "                ('dt',\n",
      "                 DecisionTreeClassifier(class_weight='balanced', max_depth=24,\n",
      "                                        random_state=42))])\n",
      "Метрика лучшей модели на тренировочной выборке:, 0.61\n",
      "CPU times: user 12.9 s, sys: 1.94 s, total: 14.9 s\n",
      "Wall time: 1min 24s\n"
     ]
    }
   ],
   "source": [
    "%%time\n",
    "#Испльзуем GridSearchCV для поиска лучших параметров\n",
    "grid_dt = GridSearchCV(pipe_dt, param_dt, scoring='f1', cv=3, n_jobs=-1,error_score = 'raise')\n",
    "\n",
    "grid_dt.fit(X_train, y_train)\n",
    "\n",
    "print('Лучшая модель и её параметры:\\n\\n', grid_dt.best_estimator_)\n",
    "print (f'Метрика лучшей модели на тренировочной выборке:, {round(grid_dt.best_score_,2)}')"
   ]
  },
  {
   "cell_type": "code",
   "execution_count": 46,
   "metadata": {},
   "outputs": [
    {
     "data": {
      "text/html": [
       "<style>#sk-container-id-2 {color: black;}#sk-container-id-2 pre{padding: 0;}#sk-container-id-2 div.sk-toggleable {background-color: white;}#sk-container-id-2 label.sk-toggleable__label {cursor: pointer;display: block;width: 100%;margin-bottom: 0;padding: 0.3em;box-sizing: border-box;text-align: center;}#sk-container-id-2 label.sk-toggleable__label-arrow:before {content: \"▸\";float: left;margin-right: 0.25em;color: #696969;}#sk-container-id-2 label.sk-toggleable__label-arrow:hover:before {color: black;}#sk-container-id-2 div.sk-estimator:hover label.sk-toggleable__label-arrow:before {color: black;}#sk-container-id-2 div.sk-toggleable__content {max-height: 0;max-width: 0;overflow: hidden;text-align: left;background-color: #f0f8ff;}#sk-container-id-2 div.sk-toggleable__content pre {margin: 0.2em;color: black;border-radius: 0.25em;background-color: #f0f8ff;}#sk-container-id-2 input.sk-toggleable__control:checked~div.sk-toggleable__content {max-height: 200px;max-width: 100%;overflow: auto;}#sk-container-id-2 input.sk-toggleable__control:checked~label.sk-toggleable__label-arrow:before {content: \"▾\";}#sk-container-id-2 div.sk-estimator input.sk-toggleable__control:checked~label.sk-toggleable__label {background-color: #d4ebff;}#sk-container-id-2 div.sk-label input.sk-toggleable__control:checked~label.sk-toggleable__label {background-color: #d4ebff;}#sk-container-id-2 input.sk-hidden--visually {border: 0;clip: rect(1px 1px 1px 1px);clip: rect(1px, 1px, 1px, 1px);height: 1px;margin: -1px;overflow: hidden;padding: 0;position: absolute;width: 1px;}#sk-container-id-2 div.sk-estimator {font-family: monospace;background-color: #f0f8ff;border: 1px dotted black;border-radius: 0.25em;box-sizing: border-box;margin-bottom: 0.5em;}#sk-container-id-2 div.sk-estimator:hover {background-color: #d4ebff;}#sk-container-id-2 div.sk-parallel-item::after {content: \"\";width: 100%;border-bottom: 1px solid gray;flex-grow: 1;}#sk-container-id-2 div.sk-label:hover label.sk-toggleable__label {background-color: #d4ebff;}#sk-container-id-2 div.sk-serial::before {content: \"\";position: absolute;border-left: 1px solid gray;box-sizing: border-box;top: 0;bottom: 0;left: 50%;z-index: 0;}#sk-container-id-2 div.sk-serial {display: flex;flex-direction: column;align-items: center;background-color: white;padding-right: 0.2em;padding-left: 0.2em;position: relative;}#sk-container-id-2 div.sk-item {position: relative;z-index: 1;}#sk-container-id-2 div.sk-parallel {display: flex;align-items: stretch;justify-content: center;background-color: white;position: relative;}#sk-container-id-2 div.sk-item::before, #sk-container-id-2 div.sk-parallel-item::before {content: \"\";position: absolute;border-left: 1px solid gray;box-sizing: border-box;top: 0;bottom: 0;left: 50%;z-index: -1;}#sk-container-id-2 div.sk-parallel-item {display: flex;flex-direction: column;z-index: 1;position: relative;background-color: white;}#sk-container-id-2 div.sk-parallel-item:first-child::after {align-self: flex-end;width: 50%;}#sk-container-id-2 div.sk-parallel-item:last-child::after {align-self: flex-start;width: 50%;}#sk-container-id-2 div.sk-parallel-item:only-child::after {width: 0;}#sk-container-id-2 div.sk-dashed-wrapped {border: 1px dashed gray;margin: 0 0.4em 0.5em 0.4em;box-sizing: border-box;padding-bottom: 0.4em;background-color: white;}#sk-container-id-2 div.sk-label label {font-family: monospace;font-weight: bold;display: inline-block;line-height: 1.2em;}#sk-container-id-2 div.sk-label-container {text-align: center;}#sk-container-id-2 div.sk-container {/* jupyter's `normalize.less` sets `[hidden] { display: none; }` but bootstrap.min.css set `[hidden] { display: none !important; }` so we also need the `!important` here to be able to override the default hidden behavior on the sphinx rendered scikit-learn.org. See: https://github.com/scikit-learn/scikit-learn/issues/21755 */display: inline-block !important;position: relative;}#sk-container-id-2 div.sk-text-repr-fallback {display: none;}</style><div id=\"sk-container-id-2\" class=\"sk-top-container\"><div class=\"sk-text-repr-fallback\"><pre>DecisionTreeClassifier(class_weight=&#x27;balanced&#x27;, max_depth=24, random_state=42)</pre><b>In a Jupyter environment, please rerun this cell to show the HTML representation or trust the notebook. <br />On GitHub, the HTML representation is unable to render, please try loading this page with nbviewer.org.</b></div><div class=\"sk-container\" hidden><div class=\"sk-item\"><div class=\"sk-estimator sk-toggleable\"><input class=\"sk-toggleable__control sk-hidden--visually\" id=\"sk-estimator-id-2\" type=\"checkbox\" checked><label for=\"sk-estimator-id-2\" class=\"sk-toggleable__label sk-toggleable__label-arrow\">DecisionTreeClassifier</label><div class=\"sk-toggleable__content\"><pre>DecisionTreeClassifier(class_weight=&#x27;balanced&#x27;, max_depth=24, random_state=42)</pre></div></div></div></div></div>"
      ],
      "text/plain": [
       "DecisionTreeClassifier(class_weight='balanced', max_depth=24, random_state=42)"
      ]
     },
     "execution_count": 46,
     "metadata": {},
     "output_type": "execute_result"
    }
   ],
   "source": [
    "#Сохраняем модель в lr_model\n",
    "best_model_dt = grid_dt.best_estimator_\n",
    "dt_model = best_model_dt.named_steps['dt']\n",
    "dt_model"
   ]
  },
  {
   "cell_type": "code",
   "execution_count": 47,
   "metadata": {},
   "outputs": [
    {
     "name": "stdout",
     "output_type": "stream",
     "text": [
      "F1 тестовых данных 0.62\n",
      "Отчет о классификации               precision    recall  f1-score   support\n",
      "\n",
      "           0       0.95      0.97      0.96     28401\n",
      "           1       0.71      0.55      0.62      3228\n",
      "\n",
      "    accuracy                           0.93     31629\n",
      "   macro avg       0.83      0.76      0.79     31629\n",
      "weighted avg       0.93      0.93      0.93     31629\n",
      "\n"
     ]
    }
   ],
   "source": [
    "#тестирование\n",
    "predictions_dt = grid_dt.predict(X_test)\n",
    "dt_test = f1_score(y_test, predictions_dt)\n",
    "print('F1 тестовых данных {}'.format(round(dt_test,2)))\n"
   ]
  },
  {
   "cell_type": "markdown",
   "metadata": {},
   "source": [
    "### Вывод\n",
    "\n",
    "На трен. выборке DecisionTreeClassifier с параметрами class_weight='balanced', max_depth=23, random_state=42 метрика f1 получилась 0.61. На тестовых данных 0.62."
   ]
  },
  {
   "cell_type": "code",
   "execution_count": 48,
   "metadata": {},
   "outputs": [
    {
     "name": "stdout",
     "output_type": "stream",
     "text": [
      "CPU times: user 107 µs, sys: 232 µs, total: 339 µs\n",
      "Wall time: 346 µs\n"
     ]
    }
   ],
   "source": [
    "%%time\n",
    "# создаём итоговый пайплайн и параметры.Испльзуем GridSearchCV для поиска лучших параметров\n",
    "pipe_lgb = Pipeline([('tfidf', TfidfVectorizer(stop_words='english', sublinear_tf=True)),\n",
    "                       ('lgb', LGBMClassifier())])\n",
    "param_lgb = [\n",
    "              {'lgb__random_state': ([42]),\n",
    "               'lgb__max_depth': [-1],\n",
    "               'lgb__n_estimators' : [500],\n",
    "               'lgb__learning_rate':[0.1]}]"
   ]
  },
  {
   "cell_type": "code",
   "execution_count": 49,
   "metadata": {},
   "outputs": [
    {
     "name": "stdout",
     "output_type": "stream",
     "text": [
      "[LightGBM] [Info] Number of positive: 12863, number of negative: 113653\n",
      "[LightGBM] [Info] Auto-choosing col-wise multi-threading, the overhead of testing was 0.789151 seconds.\n",
      "You can set `force_col_wise=true` to remove the overhead.\n",
      "[LightGBM] [Info] Total Bins 572315\n",
      "[LightGBM] [Info] Number of data points in the train set: 126516, number of used features: 11254\n",
      "[LightGBM] [Info] [binary:BoostFromScore]: pavg=0.101671 -> initscore=-2.178795\n",
      "[LightGBM] [Info] Start training from score -2.178795\n",
      "Лучшая модель и её параметры:\n",
      "\n",
      " Pipeline(steps=[('tfidf',\n",
      "                 TfidfVectorizer(stop_words='english', sublinear_tf=True)),\n",
      "                ('lgb', LGBMClassifier(n_estimators=500, random_state=42))])\n",
      "Метрика лучшей модели на тренировочной выборке:, 0.77\n",
      "CPU times: user 2min 46s, sys: 20.8 s, total: 3min 7s\n",
      "Wall time: 1min 37s\n"
     ]
    }
   ],
   "source": [
    "%%time\n",
    "#Испльзуем GridSearchCV для поиска лучших параметров\n",
    "grid_lgb = GridSearchCV(pipe_lgb, param_lgb, scoring='f1', cv=3, n_jobs=-1,error_score = 'raise')\n",
    "\n",
    "grid_lgb.fit(X_train, y_train)\n",
    "\n",
    "print('Лучшая модель и её параметры:\\n\\n', grid_lgb.best_estimator_)\n",
    "print (f'Метрика лучшей модели на тренировочной выборке:, {round(grid_lgb.best_score_,2)}')"
   ]
  },
  {
   "cell_type": "code",
   "execution_count": 50,
   "metadata": {},
   "outputs": [
    {
     "data": {
      "text/html": [
       "<style>#sk-container-id-3 {color: black;}#sk-container-id-3 pre{padding: 0;}#sk-container-id-3 div.sk-toggleable {background-color: white;}#sk-container-id-3 label.sk-toggleable__label {cursor: pointer;display: block;width: 100%;margin-bottom: 0;padding: 0.3em;box-sizing: border-box;text-align: center;}#sk-container-id-3 label.sk-toggleable__label-arrow:before {content: \"▸\";float: left;margin-right: 0.25em;color: #696969;}#sk-container-id-3 label.sk-toggleable__label-arrow:hover:before {color: black;}#sk-container-id-3 div.sk-estimator:hover label.sk-toggleable__label-arrow:before {color: black;}#sk-container-id-3 div.sk-toggleable__content {max-height: 0;max-width: 0;overflow: hidden;text-align: left;background-color: #f0f8ff;}#sk-container-id-3 div.sk-toggleable__content pre {margin: 0.2em;color: black;border-radius: 0.25em;background-color: #f0f8ff;}#sk-container-id-3 input.sk-toggleable__control:checked~div.sk-toggleable__content {max-height: 200px;max-width: 100%;overflow: auto;}#sk-container-id-3 input.sk-toggleable__control:checked~label.sk-toggleable__label-arrow:before {content: \"▾\";}#sk-container-id-3 div.sk-estimator input.sk-toggleable__control:checked~label.sk-toggleable__label {background-color: #d4ebff;}#sk-container-id-3 div.sk-label input.sk-toggleable__control:checked~label.sk-toggleable__label {background-color: #d4ebff;}#sk-container-id-3 input.sk-hidden--visually {border: 0;clip: rect(1px 1px 1px 1px);clip: rect(1px, 1px, 1px, 1px);height: 1px;margin: -1px;overflow: hidden;padding: 0;position: absolute;width: 1px;}#sk-container-id-3 div.sk-estimator {font-family: monospace;background-color: #f0f8ff;border: 1px dotted black;border-radius: 0.25em;box-sizing: border-box;margin-bottom: 0.5em;}#sk-container-id-3 div.sk-estimator:hover {background-color: #d4ebff;}#sk-container-id-3 div.sk-parallel-item::after {content: \"\";width: 100%;border-bottom: 1px solid gray;flex-grow: 1;}#sk-container-id-3 div.sk-label:hover label.sk-toggleable__label {background-color: #d4ebff;}#sk-container-id-3 div.sk-serial::before {content: \"\";position: absolute;border-left: 1px solid gray;box-sizing: border-box;top: 0;bottom: 0;left: 50%;z-index: 0;}#sk-container-id-3 div.sk-serial {display: flex;flex-direction: column;align-items: center;background-color: white;padding-right: 0.2em;padding-left: 0.2em;position: relative;}#sk-container-id-3 div.sk-item {position: relative;z-index: 1;}#sk-container-id-3 div.sk-parallel {display: flex;align-items: stretch;justify-content: center;background-color: white;position: relative;}#sk-container-id-3 div.sk-item::before, #sk-container-id-3 div.sk-parallel-item::before {content: \"\";position: absolute;border-left: 1px solid gray;box-sizing: border-box;top: 0;bottom: 0;left: 50%;z-index: -1;}#sk-container-id-3 div.sk-parallel-item {display: flex;flex-direction: column;z-index: 1;position: relative;background-color: white;}#sk-container-id-3 div.sk-parallel-item:first-child::after {align-self: flex-end;width: 50%;}#sk-container-id-3 div.sk-parallel-item:last-child::after {align-self: flex-start;width: 50%;}#sk-container-id-3 div.sk-parallel-item:only-child::after {width: 0;}#sk-container-id-3 div.sk-dashed-wrapped {border: 1px dashed gray;margin: 0 0.4em 0.5em 0.4em;box-sizing: border-box;padding-bottom: 0.4em;background-color: white;}#sk-container-id-3 div.sk-label label {font-family: monospace;font-weight: bold;display: inline-block;line-height: 1.2em;}#sk-container-id-3 div.sk-label-container {text-align: center;}#sk-container-id-3 div.sk-container {/* jupyter's `normalize.less` sets `[hidden] { display: none; }` but bootstrap.min.css set `[hidden] { display: none !important; }` so we also need the `!important` here to be able to override the default hidden behavior on the sphinx rendered scikit-learn.org. See: https://github.com/scikit-learn/scikit-learn/issues/21755 */display: inline-block !important;position: relative;}#sk-container-id-3 div.sk-text-repr-fallback {display: none;}</style><div id=\"sk-container-id-3\" class=\"sk-top-container\"><div class=\"sk-text-repr-fallback\"><pre>LGBMClassifier(n_estimators=500, random_state=42)</pre><b>In a Jupyter environment, please rerun this cell to show the HTML representation or trust the notebook. <br />On GitHub, the HTML representation is unable to render, please try loading this page with nbviewer.org.</b></div><div class=\"sk-container\" hidden><div class=\"sk-item\"><div class=\"sk-estimator sk-toggleable\"><input class=\"sk-toggleable__control sk-hidden--visually\" id=\"sk-estimator-id-3\" type=\"checkbox\" checked><label for=\"sk-estimator-id-3\" class=\"sk-toggleable__label sk-toggleable__label-arrow\">LGBMClassifier</label><div class=\"sk-toggleable__content\"><pre>LGBMClassifier(n_estimators=500, random_state=42)</pre></div></div></div></div></div>"
      ],
      "text/plain": [
       "LGBMClassifier(n_estimators=500, random_state=42)"
      ]
     },
     "execution_count": 50,
     "metadata": {},
     "output_type": "execute_result"
    }
   ],
   "source": [
    "#Сохраняем модель в lr_model\n",
    "best_model_lgb = grid_lgb.best_estimator_\n",
    "lgb_model = best_model_lgb.named_steps['lgb']\n",
    "lgb_model"
   ]
  },
  {
   "cell_type": "code",
   "execution_count": 51,
   "metadata": {
    "scrolled": true
   },
   "outputs": [
    {
     "name": "stdout",
     "output_type": "stream",
     "text": [
      "F1 тестовых данных 0.78\n",
      "Отчет о классификации               precision    recall  f1-score   support\n",
      "\n",
      "           0       0.97      0.99      0.98     28401\n",
      "           1       0.89      0.70      0.78      3228\n",
      "\n",
      "    accuracy                           0.96     31629\n",
      "   macro avg       0.93      0.84      0.88     31629\n",
      "weighted avg       0.96      0.96      0.96     31629\n",
      "\n"
     ]
    }
   ],
   "source": [
    "#тестирование\n",
    "predictions_lgb = grid_lgb.predict(X_test)\n",
    "lgb_test = f1_score(y_test, predictions_lgb)\n",
    "print('F1 тестовых данных {}'.format(round(lgb_test,2)))\n"
   ]
  },
  {
   "cell_type": "markdown",
   "metadata": {},
   "source": [
    "Вывод\n",
    "На трен. выборке LGBMClassifier с параметрами n_estimators=500, random_state=42 метрика f1 получилась 0.77. На тестовых данных 0.78."
   ]
  },
  {
   "cell_type": "code",
   "execution_count": 60,
   "metadata": {},
   "outputs": [
    {
     "name": "stdout",
     "output_type": "stream",
     "text": [
      "CPU times: user 85 µs, sys: 1 µs, total: 86 µs\n",
      "Wall time: 101 µs\n"
     ]
    }
   ],
   "source": [
    "%%time\n",
    "# создаём итоговый пайплайн и параметры.Испльзуем GridSearchCV для поиска лучших параметров\n",
    "pipe_rf = Pipeline([('tfidf', TfidfVectorizer(stop_words='english', sublinear_tf=True))\n",
    "                       ,('rf', RandomForestClassifier(verbose=False))])\n",
    "param_rf = [\n",
    "              {'rf__random_state': ([42]),\n",
    "               'rf__n_estimators': list(range(90,100,150)),\n",
    "               'rf__class_weight': (['balanced']),\n",
    "               'rf__criterion': (['entropy']),\n",
    "               'rf__max_depth': (None, *range(1,10))\n",
    "               }]"
   ]
  },
  {
   "cell_type": "code",
   "execution_count": 61,
   "metadata": {},
   "outputs": [
    {
     "name": "stdout",
     "output_type": "stream",
     "text": [
      "Лучшая модель и её параметры:\n",
      "\n",
      " Pipeline(steps=[('tfidf',\n",
      "                 TfidfVectorizer(stop_words='english', sublinear_tf=True)),\n",
      "                ('rf',\n",
      "                 RandomForestClassifier(class_weight='balanced',\n",
      "                                        criterion='entropy', n_estimators=90,\n",
      "                                        random_state=42, verbose=False))])\n",
      "Метрика лучшей модели на тренировочной выборке:, 0.6516664961333389\n",
      "CPU times: user 3min 9s, sys: 1.03 s, total: 3min 10s\n",
      "Wall time: 5min 18s\n"
     ]
    }
   ],
   "source": [
    "%%time\n",
    "#Испльзуем GridSearchCV для поиска лучших параметров\n",
    "grid_rf = GridSearchCV(pipe_rf, param_rf, scoring='f1', cv=3, n_jobs=-1,error_score = 'raise')\n",
    "\n",
    "grid_rf.fit(X_train, y_train)\n",
    "\n",
    "print('Лучшая модель и её параметры:\\n\\n', grid_rf.best_estimator_)\n",
    "print (f'Метрика лучшей модели на тренировочной выборке:, {round(grid_rf.best_score_,2)}')"
   ]
  },
  {
   "cell_type": "code",
   "execution_count": 62,
   "metadata": {},
   "outputs": [
    {
     "data": {
      "text/html": [
       "<style>#sk-container-id-4 {color: black;}#sk-container-id-4 pre{padding: 0;}#sk-container-id-4 div.sk-toggleable {background-color: white;}#sk-container-id-4 label.sk-toggleable__label {cursor: pointer;display: block;width: 100%;margin-bottom: 0;padding: 0.3em;box-sizing: border-box;text-align: center;}#sk-container-id-4 label.sk-toggleable__label-arrow:before {content: \"▸\";float: left;margin-right: 0.25em;color: #696969;}#sk-container-id-4 label.sk-toggleable__label-arrow:hover:before {color: black;}#sk-container-id-4 div.sk-estimator:hover label.sk-toggleable__label-arrow:before {color: black;}#sk-container-id-4 div.sk-toggleable__content {max-height: 0;max-width: 0;overflow: hidden;text-align: left;background-color: #f0f8ff;}#sk-container-id-4 div.sk-toggleable__content pre {margin: 0.2em;color: black;border-radius: 0.25em;background-color: #f0f8ff;}#sk-container-id-4 input.sk-toggleable__control:checked~div.sk-toggleable__content {max-height: 200px;max-width: 100%;overflow: auto;}#sk-container-id-4 input.sk-toggleable__control:checked~label.sk-toggleable__label-arrow:before {content: \"▾\";}#sk-container-id-4 div.sk-estimator input.sk-toggleable__control:checked~label.sk-toggleable__label {background-color: #d4ebff;}#sk-container-id-4 div.sk-label input.sk-toggleable__control:checked~label.sk-toggleable__label {background-color: #d4ebff;}#sk-container-id-4 input.sk-hidden--visually {border: 0;clip: rect(1px 1px 1px 1px);clip: rect(1px, 1px, 1px, 1px);height: 1px;margin: -1px;overflow: hidden;padding: 0;position: absolute;width: 1px;}#sk-container-id-4 div.sk-estimator {font-family: monospace;background-color: #f0f8ff;border: 1px dotted black;border-radius: 0.25em;box-sizing: border-box;margin-bottom: 0.5em;}#sk-container-id-4 div.sk-estimator:hover {background-color: #d4ebff;}#sk-container-id-4 div.sk-parallel-item::after {content: \"\";width: 100%;border-bottom: 1px solid gray;flex-grow: 1;}#sk-container-id-4 div.sk-label:hover label.sk-toggleable__label {background-color: #d4ebff;}#sk-container-id-4 div.sk-serial::before {content: \"\";position: absolute;border-left: 1px solid gray;box-sizing: border-box;top: 0;bottom: 0;left: 50%;z-index: 0;}#sk-container-id-4 div.sk-serial {display: flex;flex-direction: column;align-items: center;background-color: white;padding-right: 0.2em;padding-left: 0.2em;position: relative;}#sk-container-id-4 div.sk-item {position: relative;z-index: 1;}#sk-container-id-4 div.sk-parallel {display: flex;align-items: stretch;justify-content: center;background-color: white;position: relative;}#sk-container-id-4 div.sk-item::before, #sk-container-id-4 div.sk-parallel-item::before {content: \"\";position: absolute;border-left: 1px solid gray;box-sizing: border-box;top: 0;bottom: 0;left: 50%;z-index: -1;}#sk-container-id-4 div.sk-parallel-item {display: flex;flex-direction: column;z-index: 1;position: relative;background-color: white;}#sk-container-id-4 div.sk-parallel-item:first-child::after {align-self: flex-end;width: 50%;}#sk-container-id-4 div.sk-parallel-item:last-child::after {align-self: flex-start;width: 50%;}#sk-container-id-4 div.sk-parallel-item:only-child::after {width: 0;}#sk-container-id-4 div.sk-dashed-wrapped {border: 1px dashed gray;margin: 0 0.4em 0.5em 0.4em;box-sizing: border-box;padding-bottom: 0.4em;background-color: white;}#sk-container-id-4 div.sk-label label {font-family: monospace;font-weight: bold;display: inline-block;line-height: 1.2em;}#sk-container-id-4 div.sk-label-container {text-align: center;}#sk-container-id-4 div.sk-container {/* jupyter's `normalize.less` sets `[hidden] { display: none; }` but bootstrap.min.css set `[hidden] { display: none !important; }` so we also need the `!important` here to be able to override the default hidden behavior on the sphinx rendered scikit-learn.org. See: https://github.com/scikit-learn/scikit-learn/issues/21755 */display: inline-block !important;position: relative;}#sk-container-id-4 div.sk-text-repr-fallback {display: none;}</style><div id=\"sk-container-id-4\" class=\"sk-top-container\"><div class=\"sk-text-repr-fallback\"><pre>RandomForestClassifier(class_weight=&#x27;balanced&#x27;, criterion=&#x27;entropy&#x27;,\n",
       "                       n_estimators=90, random_state=42, verbose=False)</pre><b>In a Jupyter environment, please rerun this cell to show the HTML representation or trust the notebook. <br />On GitHub, the HTML representation is unable to render, please try loading this page with nbviewer.org.</b></div><div class=\"sk-container\" hidden><div class=\"sk-item\"><div class=\"sk-estimator sk-toggleable\"><input class=\"sk-toggleable__control sk-hidden--visually\" id=\"sk-estimator-id-4\" type=\"checkbox\" checked><label for=\"sk-estimator-id-4\" class=\"sk-toggleable__label sk-toggleable__label-arrow\">RandomForestClassifier</label><div class=\"sk-toggleable__content\"><pre>RandomForestClassifier(class_weight=&#x27;balanced&#x27;, criterion=&#x27;entropy&#x27;,\n",
       "                       n_estimators=90, random_state=42, verbose=False)</pre></div></div></div></div></div>"
      ],
      "text/plain": [
       "RandomForestClassifier(class_weight='balanced', criterion='entropy',\n",
       "                       n_estimators=90, random_state=42, verbose=False)"
      ]
     },
     "execution_count": 62,
     "metadata": {},
     "output_type": "execute_result"
    }
   ],
   "source": [
    "#Сохраняем модель в lr_model\n",
    "best_model_rf = grid_rf.best_estimator_\n",
    "rf_model = best_model_rf.named_steps['rf']\n",
    "rf_model"
   ]
  },
  {
   "cell_type": "code",
   "execution_count": 63,
   "metadata": {},
   "outputs": [
    {
     "name": "stdout",
     "output_type": "stream",
     "text": [
      "F1 тестовых данных 0.62\n"
     ]
    }
   ],
   "source": [
    "#тестирование:\n",
    "predictions_rf = grid_dt.predict(X_test)\n",
    "dt_test = f1_score(y_test, predictions_rf)\n",
    "print('F1 тестовых данных {}'.format(round(dt_test,2)))"
   ]
  },
  {
   "cell_type": "markdown",
   "metadata": {},
   "source": [
    "### Вывод\n",
    "\n",
    "На трен. выборке RandomForestClassifier с параметрами class_weight='balanced', criterion='entropy',n_estimators=90, random_state=42 метрика f1 получилась 0.65. На тестовых данных 0.62."
   ]
  },
  {
   "cell_type": "code",
   "execution_count": 65,
   "metadata": {
    "scrolled": true
   },
   "outputs": [],
   "source": [
    "#Сводная таблица по моделям\n",
    "index = ['LogisticRegression','DecisionTreeClassifier','LGBMClassifier','RandomForestClassifier']\n",
    "f1 = {'f1 тренировочных данных':[lr_test,dt_test,lgb_test,dt_test],\n",
    "     'f1 тестовых данных': [lr_test,dt_test,lgb_test,dt_test]}\n",
    "f1 = pd.DataFrame(data=f1,index=index)"
   ]
  },
  {
   "cell_type": "code",
   "execution_count": 66,
   "metadata": {},
   "outputs": [
    {
     "data": {
      "text/html": [
       "<div>\n",
       "<style scoped>\n",
       "    .dataframe tbody tr th:only-of-type {\n",
       "        vertical-align: middle;\n",
       "    }\n",
       "\n",
       "    .dataframe tbody tr th {\n",
       "        vertical-align: top;\n",
       "    }\n",
       "\n",
       "    .dataframe thead th {\n",
       "        text-align: right;\n",
       "    }\n",
       "</style>\n",
       "<table border=\"1\" class=\"dataframe\">\n",
       "  <thead>\n",
       "    <tr style=\"text-align: right;\">\n",
       "      <th></th>\n",
       "      <th>f1 тренировочных данных</th>\n",
       "      <th>f1 тестовых данных</th>\n",
       "    </tr>\n",
       "  </thead>\n",
       "  <tbody>\n",
       "    <tr>\n",
       "      <th>LogisticRegression</th>\n",
       "      <td>0.769452</td>\n",
       "      <td>0.769452</td>\n",
       "    </tr>\n",
       "    <tr>\n",
       "      <th>DecisionTreeClassifier</th>\n",
       "      <td>0.621546</td>\n",
       "      <td>0.621546</td>\n",
       "    </tr>\n",
       "    <tr>\n",
       "      <th>LGBMClassifier</th>\n",
       "      <td>0.782669</td>\n",
       "      <td>0.782669</td>\n",
       "    </tr>\n",
       "    <tr>\n",
       "      <th>RandomForestClassifier</th>\n",
       "      <td>0.621546</td>\n",
       "      <td>0.621546</td>\n",
       "    </tr>\n",
       "  </tbody>\n",
       "</table>\n",
       "</div>"
      ],
      "text/plain": [
       "                        f1 тренировочных данных  f1 тестовых данных\n",
       "LogisticRegression                     0.769452            0.769452\n",
       "DecisionTreeClassifier                 0.621546            0.621546\n",
       "LGBMClassifier                         0.782669            0.782669\n",
       "RandomForestClassifier                 0.621546            0.621546"
      ]
     },
     "execution_count": 66,
     "metadata": {},
     "output_type": "execute_result"
    }
   ],
   "source": [
    "f1"
   ]
  },
  {
   "cell_type": "markdown",
   "metadata": {},
   "source": [
    "## Выводы"
   ]
  },
  {
   "cell_type": "markdown",
   "metadata": {},
   "source": [
    "Обучила на трёх моделях.\n",
    "\n",
    "Результаты:\n",
    "\n",
    "1. LogisticRegression с параметрами C=9, class_weight='balanced', random_state=42,\n",
    "   solver='newton-cg' метрика f1 получилась 0.76. На тестовых данных 0.77.\n",
    "\n",
    "2. DecisionTreeClassifier с параметрами class_weight='balanced', \n",
    "   max_depth=23, random_state=42 метрика f1 получилась 0.61. На тестовых данных 0.62. \n",
    "\n",
    "3. LGBMClassifier с параметрами n_estimators=500, random_state=42 метрика f1 получилась 0.77. На тестовых данных 0.78.\n",
    "\n",
    "4. RandomForestClassifier с параметрами class_weight='balanced', criterion='entropy',n_estimators=90, random_state=42 метрика f1 получилась 0.65. На тестовых данных 0.62.\n",
    "\n",
    "Можно было и улучшить получивший результат поменяв гиперпараметры."
   ]
  },
  {
   "cell_type": "markdown",
   "metadata": {},
   "source": [
    "<div style=\"background: #B0E0E6; padding: 5px; border: 1px solid SteelBlue; border-radius: 5px;\">\n",
    "    <font color='4682B4'><u><b>КОММЕНТАРИЙ СТУДЕНТА</b></u></font>\n",
    "    <br />\n",
    "    <font color='4682B4'>Я не использовала другие гипперпараметры на этих моделях,потому что у меня просто часами работали ячейки.Надеюсь это не критично</font>\n",
    "</div>"
   ]
  },
  {
   "cell_type": "markdown",
   "metadata": {},
   "source": [
    "## Чек-лист проверки"
   ]
  },
  {
   "cell_type": "markdown",
   "metadata": {},
   "source": [
    "- [x]  Jupyter Notebook открыт\n",
    "- [x]  Весь код выполняется без ошибок\n",
    "- [x]  Ячейки с кодом расположены в порядке исполнения\n",
    "- [x]  Данные загружены и подготовлены\n",
    "- [x]  Модели обучены\n",
    "- [x]  Значение метрики *F1* не меньше 0.75\n",
    "- [x]  Выводы написаны"
   ]
  }
 ],
 "metadata": {
  "ExecuteTimeLog": [
   {
    "duration": 113,
    "start_time": "2024-02-28T12:47:05.919Z"
   },
   {
    "duration": 1469,
    "start_time": "2024-02-28T12:47:46.673Z"
   },
   {
    "duration": 2219,
    "start_time": "2024-02-28T13:00:53.764Z"
   },
   {
    "duration": 3634,
    "start_time": "2024-02-28T13:01:18.204Z"
   },
   {
    "duration": 96,
    "start_time": "2024-02-28T13:01:23.904Z"
   },
   {
    "duration": 104,
    "start_time": "2024-02-28T13:03:43.796Z"
   },
   {
    "duration": 61,
    "start_time": "2024-02-28T13:03:59.275Z"
   },
   {
    "duration": 3205,
    "start_time": "2024-02-28T13:04:22.793Z"
   },
   {
    "duration": 63,
    "start_time": "2024-02-28T13:05:23.696Z"
   },
   {
    "duration": 59,
    "start_time": "2024-02-28T13:05:56.312Z"
   },
   {
    "duration": 1049,
    "start_time": "2024-02-28T13:12:26.603Z"
   },
   {
    "duration": 51,
    "start_time": "2024-02-28T13:12:30.621Z"
   },
   {
    "duration": 30,
    "start_time": "2024-02-28T13:13:13.396Z"
   },
   {
    "duration": 8907,
    "start_time": "2024-02-28T13:14:24.758Z"
   },
   {
    "duration": 54,
    "start_time": "2024-02-28T13:19:57.170Z"
   },
   {
    "duration": 1834,
    "start_time": "2024-02-28T13:20:02.723Z"
   },
   {
    "duration": 277,
    "start_time": "2024-02-28T13:23:19.881Z"
   },
   {
    "duration": 55,
    "start_time": "2024-02-28T13:28:57.857Z"
   },
   {
    "duration": 2673,
    "start_time": "2024-02-28T13:29:26.221Z"
   },
   {
    "duration": 64,
    "start_time": "2024-02-28T13:29:28.897Z"
   },
   {
    "duration": 3491,
    "start_time": "2024-02-28T13:29:28.963Z"
   },
   {
    "duration": 3197,
    "start_time": "2024-02-28T13:29:32.457Z"
   },
   {
    "duration": 286,
    "start_time": "2024-02-28T13:29:35.656Z"
   },
   {
    "duration": 40,
    "start_time": "2024-02-28T13:29:35.943Z"
   },
   {
    "duration": 271,
    "start_time": "2024-02-28T13:29:35.984Z"
   },
   {
    "duration": 41,
    "start_time": "2024-02-28T13:45:37.698Z"
   },
   {
    "duration": 194329,
    "start_time": "2024-02-28T13:48:46.117Z"
   },
   {
    "duration": 0,
    "start_time": "2024-02-28T13:52:00.450Z"
   },
   {
    "duration": 7591,
    "start_time": "2024-02-28T13:52:24.541Z"
   },
   {
    "duration": 60,
    "start_time": "2024-02-28T14:50:01.127Z"
   },
   {
    "duration": 96458,
    "start_time": "2024-02-28T14:50:15.257Z"
   },
   {
    "duration": 0,
    "start_time": "2024-02-28T14:51:51.719Z"
   },
   {
    "duration": 3335,
    "start_time": "2024-02-28T14:51:57.867Z"
   },
   {
    "duration": 682,
    "start_time": "2024-02-28T14:53:23.680Z"
   },
   {
    "duration": 650,
    "start_time": "2024-02-28T14:53:30.587Z"
   },
   {
    "duration": 652,
    "start_time": "2024-02-28T14:53:35.379Z"
   },
   {
    "duration": 662,
    "start_time": "2024-02-28T14:54:02.947Z"
   },
   {
    "duration": 661,
    "start_time": "2024-02-28T14:55:07.813Z"
   },
   {
    "duration": 182386,
    "start_time": "2024-02-28T14:57:04.822Z"
   },
   {
    "duration": 0,
    "start_time": "2024-02-28T15:00:07.211Z"
   },
   {
    "duration": 11271,
    "start_time": "2024-02-28T21:00:05.518Z"
   },
   {
    "duration": 53,
    "start_time": "2024-02-28T21:00:16.791Z"
   },
   {
    "duration": 3471,
    "start_time": "2024-02-28T21:00:16.845Z"
   },
   {
    "duration": 3168,
    "start_time": "2024-02-28T21:00:20.318Z"
   },
   {
    "duration": 268,
    "start_time": "2024-02-28T21:00:23.487Z"
   },
   {
    "duration": 35,
    "start_time": "2024-02-28T21:00:23.757Z"
   },
   {
    "duration": 675,
    "start_time": "2024-02-28T21:00:23.793Z"
   },
   {
    "duration": 9772,
    "start_time": "2024-02-28T21:03:53.682Z"
   },
   {
    "duration": 64,
    "start_time": "2024-02-28T21:04:03.457Z"
   },
   {
    "duration": 3087,
    "start_time": "2024-02-28T21:04:03.523Z"
   },
   {
    "duration": 3149,
    "start_time": "2024-02-28T21:04:06.612Z"
   },
   {
    "duration": 281,
    "start_time": "2024-02-28T21:04:09.763Z"
   },
   {
    "duration": 36,
    "start_time": "2024-02-28T21:04:10.045Z"
   },
   {
    "duration": 708,
    "start_time": "2024-02-28T21:04:10.083Z"
   },
   {
    "duration": 51,
    "start_time": "2024-02-28T21:11:36.719Z"
   },
   {
    "duration": 9790,
    "start_time": "2024-02-28T21:11:45.556Z"
   },
   {
    "duration": 56,
    "start_time": "2024-02-28T21:11:55.348Z"
   },
   {
    "duration": 3091,
    "start_time": "2024-02-28T21:11:55.406Z"
   },
   {
    "duration": 3171,
    "start_time": "2024-02-28T21:11:58.499Z"
   },
   {
    "duration": 285,
    "start_time": "2024-02-28T21:12:01.672Z"
   },
   {
    "duration": 26,
    "start_time": "2024-02-28T21:12:01.969Z"
   },
   {
    "duration": 729,
    "start_time": "2024-02-28T21:12:01.997Z"
   },
   {
    "duration": 249,
    "start_time": "2024-02-28T21:12:15.383Z"
   },
   {
    "duration": 237,
    "start_time": "2024-02-28T21:12:21.305Z"
   },
   {
    "duration": 232,
    "start_time": "2024-02-28T21:12:27.886Z"
   },
   {
    "duration": 243,
    "start_time": "2024-02-28T21:12:51.955Z"
   },
   {
    "duration": 2167,
    "start_time": "2024-02-28T21:14:04.063Z"
   },
   {
    "duration": 9883,
    "start_time": "2024-02-28T21:14:29.752Z"
   },
   {
    "duration": 55,
    "start_time": "2024-02-28T21:14:39.637Z"
   },
   {
    "duration": 3130,
    "start_time": "2024-02-28T21:14:39.693Z"
   },
   {
    "duration": 3126,
    "start_time": "2024-02-28T21:14:42.824Z"
   },
   {
    "duration": 275,
    "start_time": "2024-02-28T21:14:45.953Z"
   },
   {
    "duration": 40,
    "start_time": "2024-02-28T21:14:46.230Z"
   },
   {
    "duration": 637,
    "start_time": "2024-02-28T21:14:46.272Z"
   },
   {
    "duration": 2967,
    "start_time": "2024-02-28T21:14:46.911Z"
   },
   {
    "duration": 662,
    "start_time": "2024-02-28T21:18:08.068Z"
   },
   {
    "duration": 2187,
    "start_time": "2024-02-28T21:18:16.963Z"
   },
   {
    "duration": 1428,
    "start_time": "2024-02-28T21:18:37.470Z"
   },
   {
    "duration": 1396,
    "start_time": "2024-02-28T21:19:56.229Z"
   },
   {
    "duration": 13,
    "start_time": "2024-02-28T21:26:04.558Z"
   },
   {
    "duration": 9916,
    "start_time": "2024-02-28T21:30:20.695Z"
   },
   {
    "duration": 58,
    "start_time": "2024-02-28T21:30:30.614Z"
   },
   {
    "duration": 3185,
    "start_time": "2024-02-28T21:30:30.674Z"
   },
   {
    "duration": 918,
    "start_time": "2024-02-28T21:30:33.860Z"
   },
   {
    "duration": 293,
    "start_time": "2024-02-28T21:30:34.780Z"
   },
   {
    "duration": 26,
    "start_time": "2024-02-28T21:30:35.074Z"
   },
   {
    "duration": 685,
    "start_time": "2024-02-28T21:30:35.102Z"
   },
   {
    "duration": 2323,
    "start_time": "2024-02-28T21:30:35.789Z"
   },
   {
    "duration": 370609,
    "start_time": "2024-02-28T21:30:38.114Z"
   },
   {
    "duration": 39,
    "start_time": "2024-02-28T21:36:48.725Z"
   },
   {
    "duration": 6,
    "start_time": "2024-02-28T21:37:28.200Z"
   },
   {
    "duration": 81204,
    "start_time": "2024-02-28T21:37:34.302Z"
   },
   {
    "duration": 12,
    "start_time": "2024-02-28T21:41:31.657Z"
   },
   {
    "duration": 10049,
    "start_time": "2024-02-28T21:43:53.038Z"
   },
   {
    "duration": 55,
    "start_time": "2024-02-28T21:44:03.089Z"
   },
   {
    "duration": 3695,
    "start_time": "2024-02-28T21:44:03.146Z"
   },
   {
    "duration": 932,
    "start_time": "2024-02-28T21:44:06.843Z"
   },
   {
    "duration": 303,
    "start_time": "2024-02-28T21:44:07.776Z"
   },
   {
    "duration": 1807,
    "start_time": "2024-02-28T21:44:08.080Z"
   },
   {
    "duration": 1574,
    "start_time": "2024-02-28T21:44:09.888Z"
   },
   {
    "duration": 2294,
    "start_time": "2024-02-28T21:44:11.464Z"
   },
   {
    "duration": 84679,
    "start_time": "2024-02-28T21:44:13.769Z"
   },
   {
    "duration": 14,
    "start_time": "2024-02-28T21:55:54.573Z"
   },
   {
    "duration": 13,
    "start_time": "2024-02-28T21:56:09.322Z"
   },
   {
    "duration": 6,
    "start_time": "2024-02-28T22:04:55.936Z"
   },
   {
    "duration": 40,
    "start_time": "2024-02-28T22:09:23.690Z"
   },
   {
    "duration": 239,
    "start_time": "2024-02-28T22:21:31.046Z"
   },
   {
    "duration": 24,
    "start_time": "2024-02-28T22:22:12.561Z"
   },
   {
    "duration": 7,
    "start_time": "2024-02-28T22:24:40.608Z"
   },
   {
    "duration": 6,
    "start_time": "2024-02-28T22:25:48.831Z"
   },
   {
    "duration": 235,
    "start_time": "2024-02-28T22:28:20.820Z"
   },
   {
    "duration": 6,
    "start_time": "2024-02-28T22:30:51.772Z"
   },
   {
    "duration": 33,
    "start_time": "2024-02-28T22:35:20.564Z"
   },
   {
    "duration": 12,
    "start_time": "2024-02-28T22:36:19.718Z"
   },
   {
    "duration": 2613,
    "start_time": "2024-02-28T22:36:32.731Z"
   },
   {
    "duration": 7651,
    "start_time": "2024-02-28T22:37:13.920Z"
   },
   {
    "duration": 1882,
    "start_time": "2024-02-28T22:37:51.900Z"
   },
   {
    "duration": 7,
    "start_time": "2024-02-28T22:39:06.845Z"
   },
   {
    "duration": 9,
    "start_time": "2024-02-28T22:40:02.287Z"
   },
   {
    "duration": 9697,
    "start_time": "2024-02-28T22:40:12.410Z"
   },
   {
    "duration": 83,
    "start_time": "2024-02-28T22:40:22.109Z"
   },
   {
    "duration": 3323,
    "start_time": "2024-02-28T22:40:22.194Z"
   },
   {
    "duration": 889,
    "start_time": "2024-02-28T22:40:25.518Z"
   },
   {
    "duration": 289,
    "start_time": "2024-02-28T22:40:26.409Z"
   },
   {
    "duration": 27,
    "start_time": "2024-02-28T22:40:26.700Z"
   },
   {
    "duration": 683,
    "start_time": "2024-02-28T22:40:26.729Z"
   },
   {
    "duration": 2223,
    "start_time": "2024-02-28T22:40:27.413Z"
   },
   {
    "duration": 80692,
    "start_time": "2024-02-28T22:40:29.637Z"
   },
   {
    "duration": 25,
    "start_time": "2024-02-28T22:41:50.330Z"
   },
   {
    "duration": 2194,
    "start_time": "2024-02-28T22:41:50.356Z"
   },
   {
    "duration": 7219,
    "start_time": "2024-02-28T22:41:52.552Z"
   },
   {
    "duration": 1855,
    "start_time": "2024-02-28T22:41:59.773Z"
   },
   {
    "duration": 7,
    "start_time": "2024-02-28T22:47:20.332Z"
   },
   {
    "duration": 2192,
    "start_time": "2024-02-28T22:48:01.203Z"
   },
   {
    "duration": 295,
    "start_time": "2024-02-28T22:48:42.582Z"
   },
   {
    "duration": 50,
    "start_time": "2024-02-28T22:51:16.642Z"
   },
   {
    "duration": 9747,
    "start_time": "2024-02-28T22:51:24.859Z"
   },
   {
    "duration": 62,
    "start_time": "2024-02-28T22:51:34.608Z"
   },
   {
    "duration": 3255,
    "start_time": "2024-02-28T22:51:34.672Z"
   },
   {
    "duration": 3152,
    "start_time": "2024-02-28T22:51:37.929Z"
   },
   {
    "duration": 266,
    "start_time": "2024-02-28T22:51:41.083Z"
   },
   {
    "duration": 35,
    "start_time": "2024-02-28T22:51:41.351Z"
   },
   {
    "duration": 639,
    "start_time": "2024-02-28T22:51:41.388Z"
   },
   {
    "duration": 2182,
    "start_time": "2024-02-28T22:51:42.028Z"
   },
   {
    "duration": 80769,
    "start_time": "2024-02-28T22:51:44.212Z"
   },
   {
    "duration": 196,
    "start_time": "2024-02-28T22:53:04.983Z"
   },
   {
    "duration": 0,
    "start_time": "2024-02-28T22:53:05.180Z"
   },
   {
    "duration": 0,
    "start_time": "2024-02-28T22:53:05.181Z"
   },
   {
    "duration": 0,
    "start_time": "2024-02-28T22:53:05.182Z"
   },
   {
    "duration": 0,
    "start_time": "2024-02-28T22:53:05.184Z"
   },
   {
    "duration": 7,
    "start_time": "2024-02-28T22:53:31.303Z"
   },
   {
    "duration": 1755,
    "start_time": "2024-02-28T22:53:36.658Z"
   },
   {
    "duration": 1672,
    "start_time": "2024-02-28T22:54:15.206Z"
   },
   {
    "duration": 1793,
    "start_time": "2024-02-28T22:55:05.219Z"
   },
   {
    "duration": 28,
    "start_time": "2024-02-28T23:02:18.648Z"
   },
   {
    "duration": 9697,
    "start_time": "2024-02-28T23:02:31.949Z"
   },
   {
    "duration": 52,
    "start_time": "2024-02-28T23:02:41.649Z"
   },
   {
    "duration": 3339,
    "start_time": "2024-02-28T23:02:41.703Z"
   },
   {
    "duration": 3159,
    "start_time": "2024-02-28T23:02:45.044Z"
   },
   {
    "duration": 285,
    "start_time": "2024-02-28T23:02:48.205Z"
   },
   {
    "duration": 26,
    "start_time": "2024-02-28T23:02:48.492Z"
   },
   {
    "duration": 653,
    "start_time": "2024-02-28T23:02:48.520Z"
   },
   {
    "duration": 2282,
    "start_time": "2024-02-28T23:02:49.174Z"
   },
   {
    "duration": 80705,
    "start_time": "2024-02-28T23:02:51.457Z"
   },
   {
    "duration": 25,
    "start_time": "2024-02-28T23:04:12.169Z"
   },
   {
    "duration": 2197,
    "start_time": "2024-02-28T23:04:12.196Z"
   },
   {
    "duration": 7503,
    "start_time": "2024-02-28T23:04:14.395Z"
   },
   {
    "duration": 1864,
    "start_time": "2024-02-28T23:04:21.900Z"
   },
   {
    "duration": 3,
    "start_time": "2024-02-28T23:06:11.236Z"
   },
   {
    "duration": 4,
    "start_time": "2024-02-28T23:06:20.853Z"
   },
   {
    "duration": 4,
    "start_time": "2024-02-28T23:06:28.400Z"
   },
   {
    "duration": 324,
    "start_time": "2024-02-28T23:07:26.547Z"
   },
   {
    "duration": 9,
    "start_time": "2024-02-28T23:07:51.542Z"
   },
   {
    "duration": 15,
    "start_time": "2024-02-28T23:08:56.009Z"
   },
   {
    "duration": 14,
    "start_time": "2024-02-28T23:11:10.783Z"
   },
   {
    "duration": 4,
    "start_time": "2024-02-28T23:12:14.509Z"
   },
   {
    "duration": 7,
    "start_time": "2024-02-28T23:12:24.272Z"
   },
   {
    "duration": 8,
    "start_time": "2024-02-28T23:12:59.257Z"
   },
   {
    "duration": 50597,
    "start_time": "2024-02-28T23:13:54.383Z"
   },
   {
    "duration": 18,
    "start_time": "2024-02-28T23:15:27.670Z"
   },
   {
    "duration": 9885,
    "start_time": "2024-02-28T23:21:01.136Z"
   },
   {
    "duration": 59,
    "start_time": "2024-02-28T23:21:11.024Z"
   },
   {
    "duration": 3339,
    "start_time": "2024-02-28T23:21:11.084Z"
   },
   {
    "duration": 3138,
    "start_time": "2024-02-28T23:21:14.424Z"
   },
   {
    "duration": 279,
    "start_time": "2024-02-28T23:21:17.564Z"
   },
   {
    "duration": 36,
    "start_time": "2024-02-28T23:21:17.845Z"
   },
   {
    "duration": 652,
    "start_time": "2024-02-28T23:21:17.882Z"
   },
   {
    "duration": 2228,
    "start_time": "2024-02-28T23:21:18.536Z"
   },
   {
    "duration": 82404,
    "start_time": "2024-02-28T23:21:20.765Z"
   },
   {
    "duration": 27,
    "start_time": "2024-02-28T23:22:43.170Z"
   },
   {
    "duration": 3,
    "start_time": "2024-02-28T23:22:43.199Z"
   },
   {
    "duration": 19,
    "start_time": "2024-02-28T23:22:43.203Z"
   },
   {
    "duration": 14,
    "start_time": "2024-02-28T23:22:43.223Z"
   },
   {
    "duration": 11,
    "start_time": "2024-02-28T23:22:43.240Z"
   },
   {
    "duration": 9,
    "start_time": "2024-02-28T23:22:43.252Z"
   },
   {
    "duration": 52002,
    "start_time": "2024-02-28T23:22:43.269Z"
   },
   {
    "duration": 17,
    "start_time": "2024-02-28T23:23:35.274Z"
   },
   {
    "duration": 129220,
    "start_time": "2024-02-28T23:23:35.293Z"
   },
   {
    "duration": 349435,
    "start_time": "2024-02-28T23:25:48.795Z"
   },
   {
    "duration": 13,
    "start_time": "2024-02-28T23:31:55.190Z"
   },
   {
    "duration": 27,
    "start_time": "2024-02-28T23:39:17.792Z"
   },
   {
    "duration": 2205,
    "start_time": "2024-02-28T23:39:22.265Z"
   },
   {
    "duration": 7695,
    "start_time": "2024-02-28T23:39:26.683Z"
   },
   {
    "duration": 1847,
    "start_time": "2024-02-28T23:39:36.813Z"
   },
   {
    "duration": 8,
    "start_time": "2024-02-28T23:39:43.325Z"
   },
   {
    "duration": 8,
    "start_time": "2024-02-28T23:39:46.497Z"
   },
   {
    "duration": 9746,
    "start_time": "2024-02-28T23:40:00.618Z"
   },
   {
    "duration": 63,
    "start_time": "2024-02-28T23:40:10.367Z"
   },
   {
    "duration": 3252,
    "start_time": "2024-02-28T23:40:10.432Z"
   },
   {
    "duration": 3148,
    "start_time": "2024-02-28T23:40:13.686Z"
   },
   {
    "duration": 268,
    "start_time": "2024-02-28T23:40:16.836Z"
   },
   {
    "duration": 26,
    "start_time": "2024-02-28T23:40:17.106Z"
   },
   {
    "duration": 662,
    "start_time": "2024-02-28T23:40:17.133Z"
   },
   {
    "duration": 2208,
    "start_time": "2024-02-28T23:40:17.796Z"
   },
   {
    "duration": 81001,
    "start_time": "2024-02-28T23:40:20.006Z"
   },
   {
    "duration": 28,
    "start_time": "2024-02-28T23:41:41.009Z"
   },
   {
    "duration": 2182,
    "start_time": "2024-02-28T23:41:41.038Z"
   },
   {
    "duration": 7567,
    "start_time": "2024-02-28T23:41:43.222Z"
   },
   {
    "duration": 1851,
    "start_time": "2024-02-28T23:41:50.790Z"
   },
   {
    "duration": 7,
    "start_time": "2024-02-28T23:41:52.643Z"
   },
   {
    "duration": 21,
    "start_time": "2024-02-28T23:41:52.652Z"
   },
   {
    "duration": 50097,
    "start_time": "2024-02-28T23:41:52.675Z"
   },
   {
    "duration": 17,
    "start_time": "2024-02-28T23:42:42.773Z"
   },
   {
    "duration": 9715,
    "start_time": "2024-02-28T23:45:07.773Z"
   },
   {
    "duration": 128,
    "start_time": "2024-02-28T23:45:17.491Z"
   },
   {
    "duration": 3885,
    "start_time": "2024-02-28T23:45:17.621Z"
   },
   {
    "duration": 3112,
    "start_time": "2024-02-28T23:45:21.508Z"
   },
   {
    "duration": 263,
    "start_time": "2024-02-28T23:45:24.621Z"
   },
   {
    "duration": 25,
    "start_time": "2024-02-28T23:45:24.886Z"
   },
   {
    "duration": 649,
    "start_time": "2024-02-28T23:45:24.912Z"
   },
   {
    "duration": 2160,
    "start_time": "2024-02-28T23:45:25.563Z"
   },
   {
    "duration": 79890,
    "start_time": "2024-02-28T23:45:27.725Z"
   },
   {
    "duration": 25,
    "start_time": "2024-02-28T23:46:47.617Z"
   },
   {
    "duration": 2183,
    "start_time": "2024-02-28T23:46:47.644Z"
   },
   {
    "duration": 7507,
    "start_time": "2024-02-28T23:46:49.829Z"
   },
   {
    "duration": 1835,
    "start_time": "2024-02-28T23:46:57.338Z"
   },
   {
    "duration": 8,
    "start_time": "2024-02-28T23:46:59.175Z"
   },
   {
    "duration": 45,
    "start_time": "2024-02-28T23:46:59.184Z"
   },
   {
    "duration": 49848,
    "start_time": "2024-02-28T23:46:59.231Z"
   },
   {
    "duration": 15,
    "start_time": "2024-02-28T23:47:49.170Z"
   },
   {
    "duration": 8,
    "start_time": "2024-02-28T23:47:49.186Z"
   },
   {
    "duration": 9787,
    "start_time": "2024-02-28T23:48:47.279Z"
   },
   {
    "duration": 69,
    "start_time": "2024-02-28T23:48:57.069Z"
   },
   {
    "duration": 3369,
    "start_time": "2024-02-28T23:48:57.140Z"
   },
   {
    "duration": 3191,
    "start_time": "2024-02-28T23:49:00.511Z"
   },
   {
    "duration": 277,
    "start_time": "2024-02-28T23:49:03.704Z"
   },
   {
    "duration": 27,
    "start_time": "2024-02-28T23:49:03.983Z"
   },
   {
    "duration": 664,
    "start_time": "2024-02-28T23:49:04.011Z"
   },
   {
    "duration": 2174,
    "start_time": "2024-02-28T23:49:04.677Z"
   },
   {
    "duration": 79989,
    "start_time": "2024-02-28T23:49:06.853Z"
   },
   {
    "duration": 34,
    "start_time": "2024-02-28T23:50:26.843Z"
   },
   {
    "duration": 2183,
    "start_time": "2024-02-28T23:50:26.878Z"
   },
   {
    "duration": 7619,
    "start_time": "2024-02-28T23:50:29.062Z"
   },
   {
    "duration": 1841,
    "start_time": "2024-02-28T23:50:36.683Z"
   },
   {
    "duration": 8,
    "start_time": "2024-02-28T23:50:38.526Z"
   },
   {
    "duration": 6,
    "start_time": "2024-02-28T23:50:38.536Z"
   },
   {
    "duration": 50127,
    "start_time": "2024-02-28T23:50:38.543Z"
   },
   {
    "duration": 13,
    "start_time": "2024-02-28T23:51:28.672Z"
   },
   {
    "duration": 9792,
    "start_time": "2024-02-28T23:51:46.374Z"
   },
   {
    "duration": 55,
    "start_time": "2024-02-28T23:51:56.168Z"
   },
   {
    "duration": 5212,
    "start_time": "2024-02-28T23:51:56.225Z"
   },
   {
    "duration": 3158,
    "start_time": "2024-02-28T23:52:01.439Z"
   },
   {
    "duration": 273,
    "start_time": "2024-02-28T23:52:04.599Z"
   },
   {
    "duration": 25,
    "start_time": "2024-02-28T23:52:04.873Z"
   },
   {
    "duration": 649,
    "start_time": "2024-02-28T23:52:04.900Z"
   },
   {
    "duration": 2165,
    "start_time": "2024-02-28T23:52:05.550Z"
   },
   {
    "duration": 80502,
    "start_time": "2024-02-28T23:52:07.717Z"
   },
   {
    "duration": 24,
    "start_time": "2024-02-28T23:53:28.221Z"
   },
   {
    "duration": 2127,
    "start_time": "2024-02-28T23:53:28.247Z"
   },
   {
    "duration": 7615,
    "start_time": "2024-02-28T23:53:30.375Z"
   },
   {
    "duration": 1829,
    "start_time": "2024-02-28T23:53:37.991Z"
   },
   {
    "duration": 8,
    "start_time": "2024-02-28T23:53:39.822Z"
   },
   {
    "duration": 17,
    "start_time": "2024-02-28T23:53:39.831Z"
   },
   {
    "duration": 49921,
    "start_time": "2024-02-28T23:53:39.850Z"
   },
   {
    "duration": 13,
    "start_time": "2024-02-28T23:54:29.772Z"
   },
   {
    "duration": 51,
    "start_time": "2024-02-28T23:59:08.104Z"
   },
   {
    "duration": 9746,
    "start_time": "2024-02-28T23:59:14.214Z"
   },
   {
    "duration": 264,
    "start_time": "2024-02-28T23:59:23.962Z"
   },
   {
    "duration": 3252,
    "start_time": "2024-02-28T23:59:24.228Z"
   },
   {
    "duration": 3155,
    "start_time": "2024-02-28T23:59:27.482Z"
   },
   {
    "duration": 288,
    "start_time": "2024-02-28T23:59:30.639Z"
   },
   {
    "duration": 43,
    "start_time": "2024-02-28T23:59:30.928Z"
   },
   {
    "duration": 637,
    "start_time": "2024-02-28T23:59:30.972Z"
   },
   {
    "duration": 2263,
    "start_time": "2024-02-28T23:59:31.611Z"
   },
   {
    "duration": 81088,
    "start_time": "2024-02-28T23:59:33.876Z"
   },
   {
    "duration": 30,
    "start_time": "2024-02-29T00:00:54.966Z"
   },
   {
    "duration": 2184,
    "start_time": "2024-02-29T00:00:54.998Z"
   },
   {
    "duration": 7900,
    "start_time": "2024-02-29T00:00:57.184Z"
   },
   {
    "duration": 1928,
    "start_time": "2024-02-29T00:01:05.086Z"
   },
   {
    "duration": 8,
    "start_time": "2024-02-29T00:01:07.016Z"
   },
   {
    "duration": 29,
    "start_time": "2024-02-29T00:01:07.026Z"
   },
   {
    "duration": 9132,
    "start_time": "2024-02-29T00:01:07.057Z"
   },
   {
    "duration": 13,
    "start_time": "2024-02-29T00:01:16.190Z"
   },
   {
    "duration": 173,
    "start_time": "2024-02-29T00:01:20.105Z"
   },
   {
    "duration": 9805,
    "start_time": "2024-02-29T00:01:26.836Z"
   },
   {
    "duration": 62,
    "start_time": "2024-02-29T00:01:36.644Z"
   },
   {
    "duration": 3263,
    "start_time": "2024-02-29T00:01:36.707Z"
   },
   {
    "duration": 3168,
    "start_time": "2024-02-29T00:01:39.972Z"
   },
   {
    "duration": 270,
    "start_time": "2024-02-29T00:01:43.142Z"
   },
   {
    "duration": 25,
    "start_time": "2024-02-29T00:01:43.414Z"
   },
   {
    "duration": 644,
    "start_time": "2024-02-29T00:01:43.441Z"
   },
   {
    "duration": 2211,
    "start_time": "2024-02-29T00:01:44.087Z"
   },
   {
    "duration": 80965,
    "start_time": "2024-02-29T00:01:46.299Z"
   },
   {
    "duration": 26,
    "start_time": "2024-02-29T00:03:07.270Z"
   },
   {
    "duration": 2196,
    "start_time": "2024-02-29T00:03:07.298Z"
   },
   {
    "duration": 7654,
    "start_time": "2024-02-29T00:03:09.496Z"
   },
   {
    "duration": 1855,
    "start_time": "2024-02-29T00:03:17.152Z"
   },
   {
    "duration": 9,
    "start_time": "2024-02-29T00:03:19.010Z"
   },
   {
    "duration": 10,
    "start_time": "2024-02-29T00:03:19.021Z"
   },
   {
    "duration": 325,
    "start_time": "2024-02-29T00:03:19.033Z"
   },
   {
    "duration": 13,
    "start_time": "2024-02-29T00:03:19.360Z"
   },
   {
    "duration": 201,
    "start_time": "2024-02-29T00:03:19.375Z"
   },
   {
    "duration": 0,
    "start_time": "2024-02-29T00:03:19.578Z"
   },
   {
    "duration": 47,
    "start_time": "2024-02-29T13:12:45.663Z"
   },
   {
    "duration": 10518,
    "start_time": "2024-02-29T13:12:51.550Z"
   },
   {
    "duration": 77,
    "start_time": "2024-02-29T13:13:03.882Z"
   },
   {
    "duration": 3677,
    "start_time": "2024-02-29T13:13:05.950Z"
   },
   {
    "duration": 3186,
    "start_time": "2024-02-29T13:13:11.386Z"
   },
   {
    "duration": 285,
    "start_time": "2024-02-29T13:13:17.264Z"
   },
   {
    "duration": 26,
    "start_time": "2024-02-29T13:13:21.546Z"
   },
   {
    "duration": 632,
    "start_time": "2024-02-29T13:13:23.406Z"
   },
   {
    "duration": 2137,
    "start_time": "2024-02-29T13:13:27.240Z"
   },
   {
    "duration": 78702,
    "start_time": "2024-02-29T13:13:32.034Z"
   },
   {
    "duration": 7,
    "start_time": "2024-02-29T13:14:56.026Z"
   },
   {
    "duration": 2312,
    "start_time": "2024-02-29T13:18:36.134Z"
   },
   {
    "duration": 9610,
    "start_time": "2024-02-29T13:19:47.172Z"
   },
   {
    "duration": 59,
    "start_time": "2024-02-29T13:19:58.871Z"
   },
   {
    "duration": 3556,
    "start_time": "2024-02-29T13:20:00.613Z"
   },
   {
    "duration": 3130,
    "start_time": "2024-02-29T13:20:05.999Z"
   },
   {
    "duration": 274,
    "start_time": "2024-02-29T13:20:11.961Z"
   },
   {
    "duration": 26,
    "start_time": "2024-02-29T13:20:17.769Z"
   },
   {
    "duration": 626,
    "start_time": "2024-02-29T13:20:19.910Z"
   },
   {
    "duration": 2184,
    "start_time": "2024-02-29T13:20:22.941Z"
   },
   {
    "duration": 80421,
    "start_time": "2024-02-29T13:20:26.747Z"
   },
   {
    "duration": 7,
    "start_time": "2024-02-29T13:21:58.301Z"
   },
   {
    "duration": 2103,
    "start_time": "2024-02-29T13:22:01.138Z"
   },
   {
    "duration": 183,
    "start_time": "2024-02-29T13:22:05.390Z"
   },
   {
    "duration": 4,
    "start_time": "2024-02-29T13:22:11.612Z"
   },
   {
    "duration": 4,
    "start_time": "2024-02-29T13:22:32.364Z"
   },
   {
    "duration": 136,
    "start_time": "2024-02-29T13:22:41.917Z"
   },
   {
    "duration": 5,
    "start_time": "2024-02-29T13:23:24.341Z"
   },
   {
    "duration": 4,
    "start_time": "2024-02-29T13:23:30.165Z"
   },
   {
    "duration": 3,
    "start_time": "2024-02-29T13:23:40.386Z"
   },
   {
    "duration": 3,
    "start_time": "2024-02-29T13:23:47.854Z"
   },
   {
    "duration": 3,
    "start_time": "2024-02-29T13:23:58.607Z"
   },
   {
    "duration": 3,
    "start_time": "2024-02-29T13:24:10.573Z"
   },
   {
    "duration": 3,
    "start_time": "2024-02-29T13:24:15.210Z"
   },
   {
    "duration": 3,
    "start_time": "2024-02-29T13:24:24.835Z"
   },
   {
    "duration": 2,
    "start_time": "2024-02-29T13:24:36.689Z"
   },
   {
    "duration": 9561,
    "start_time": "2024-02-29T13:24:42.456Z"
   },
   {
    "duration": 55,
    "start_time": "2024-02-29T13:24:52.020Z"
   },
   {
    "duration": 3455,
    "start_time": "2024-02-29T13:24:52.077Z"
   },
   {
    "duration": 3122,
    "start_time": "2024-02-29T13:24:55.534Z"
   },
   {
    "duration": 276,
    "start_time": "2024-02-29T13:24:58.658Z"
   },
   {
    "duration": 27,
    "start_time": "2024-02-29T13:24:58.936Z"
   },
   {
    "duration": 638,
    "start_time": "2024-02-29T13:24:58.965Z"
   },
   {
    "duration": 2185,
    "start_time": "2024-02-29T13:24:59.605Z"
   },
   {
    "duration": 80566,
    "start_time": "2024-02-29T13:25:01.791Z"
   },
   {
    "duration": 6,
    "start_time": "2024-02-29T13:26:22.360Z"
   },
   {
    "duration": 6,
    "start_time": "2024-02-29T13:26:22.367Z"
   },
   {
    "duration": 14,
    "start_time": "2024-02-29T13:26:22.375Z"
   },
   {
    "duration": 25,
    "start_time": "2024-02-29T13:26:22.390Z"
   },
   {
    "duration": 3,
    "start_time": "2024-02-29T13:26:22.416Z"
   },
   {
    "duration": 28,
    "start_time": "2024-02-29T13:26:22.421Z"
   },
   {
    "duration": 4,
    "start_time": "2024-02-29T13:26:22.451Z"
   },
   {
    "duration": 12,
    "start_time": "2024-02-29T13:26:22.457Z"
   },
   {
    "duration": 17,
    "start_time": "2024-02-29T13:26:22.471Z"
   },
   {
    "duration": 18,
    "start_time": "2024-02-29T13:26:22.490Z"
   },
   {
    "duration": 5,
    "start_time": "2024-02-29T13:26:22.510Z"
   },
   {
    "duration": 6,
    "start_time": "2024-02-29T13:26:22.516Z"
   },
   {
    "duration": 8,
    "start_time": "2024-02-29T13:26:22.524Z"
   },
   {
    "duration": 6,
    "start_time": "2024-02-29T13:26:22.533Z"
   },
   {
    "duration": 5690,
    "start_time": "2024-02-29T13:28:40.670Z"
   },
   {
    "duration": 1309,
    "start_time": "2024-02-29T13:29:40.128Z"
   },
   {
    "duration": 202,
    "start_time": "2024-02-29T13:30:25.756Z"
   },
   {
    "duration": 27,
    "start_time": "2024-02-29T13:34:34.124Z"
   },
   {
    "duration": 29,
    "start_time": "2024-02-29T13:35:29.401Z"
   },
   {
    "duration": 2178,
    "start_time": "2024-02-29T13:35:56.999Z"
   },
   {
    "duration": 9709,
    "start_time": "2024-02-29T13:36:26.777Z"
   },
   {
    "duration": 55,
    "start_time": "2024-02-29T13:36:36.489Z"
   },
   {
    "duration": 3322,
    "start_time": "2024-02-29T13:36:36.546Z"
   },
   {
    "duration": 3123,
    "start_time": "2024-02-29T13:36:39.870Z"
   },
   {
    "duration": 262,
    "start_time": "2024-02-29T13:36:42.995Z"
   },
   {
    "duration": 38,
    "start_time": "2024-02-29T13:36:43.258Z"
   },
   {
    "duration": 636,
    "start_time": "2024-02-29T13:36:43.297Z"
   },
   {
    "duration": 2184,
    "start_time": "2024-02-29T13:36:43.934Z"
   },
   {
    "duration": 79347,
    "start_time": "2024-02-29T13:36:46.120Z"
   },
   {
    "duration": 6,
    "start_time": "2024-02-29T13:38:05.470Z"
   },
   {
    "duration": 52,
    "start_time": "2024-02-29T13:38:05.477Z"
   },
   {
    "duration": 2141,
    "start_time": "2024-02-29T13:38:05.531Z"
   },
   {
    "duration": 5498,
    "start_time": "2024-02-29T13:38:07.673Z"
   },
   {
    "duration": 1408,
    "start_time": "2024-02-29T13:38:13.172Z"
   },
   {
    "duration": 199,
    "start_time": "2024-02-29T13:38:14.586Z"
   },
   {
    "duration": 0,
    "start_time": "2024-02-29T13:38:14.787Z"
   },
   {
    "duration": 0,
    "start_time": "2024-02-29T13:38:14.788Z"
   },
   {
    "duration": 0,
    "start_time": "2024-02-29T13:38:14.789Z"
   },
   {
    "duration": 0,
    "start_time": "2024-02-29T13:38:14.790Z"
   },
   {
    "duration": 0,
    "start_time": "2024-02-29T13:38:14.791Z"
   },
   {
    "duration": 0,
    "start_time": "2024-02-29T13:38:14.793Z"
   },
   {
    "duration": 0,
    "start_time": "2024-02-29T13:38:14.793Z"
   },
   {
    "duration": 0,
    "start_time": "2024-02-29T13:38:14.794Z"
   },
   {
    "duration": 0,
    "start_time": "2024-02-29T13:38:14.795Z"
   },
   {
    "duration": 0,
    "start_time": "2024-02-29T13:38:14.796Z"
   },
   {
    "duration": 5569,
    "start_time": "2024-02-29T13:39:23.184Z"
   },
   {
    "duration": 1343,
    "start_time": "2024-02-29T13:39:31.659Z"
   },
   {
    "duration": 17,
    "start_time": "2024-02-29T13:39:38.800Z"
   },
   {
    "duration": 7372,
    "start_time": "2024-02-29T13:40:15.300Z"
   },
   {
    "duration": 1865,
    "start_time": "2024-02-29T13:40:30.347Z"
   },
   {
    "duration": 16,
    "start_time": "2024-02-29T13:40:40.966Z"
   },
   {
    "duration": 132,
    "start_time": "2024-02-29T13:41:31.305Z"
   },
   {
    "duration": 9566,
    "start_time": "2024-02-29T13:41:42.303Z"
   },
   {
    "duration": 58,
    "start_time": "2024-02-29T13:41:51.871Z"
   },
   {
    "duration": 3081,
    "start_time": "2024-02-29T13:41:51.931Z"
   },
   {
    "duration": 861,
    "start_time": "2024-02-29T13:41:55.014Z"
   },
   {
    "duration": 272,
    "start_time": "2024-02-29T13:41:55.876Z"
   },
   {
    "duration": 39,
    "start_time": "2024-02-29T13:41:56.149Z"
   },
   {
    "duration": 628,
    "start_time": "2024-02-29T13:41:56.190Z"
   },
   {
    "duration": 2125,
    "start_time": "2024-02-29T13:41:56.819Z"
   },
   {
    "duration": 79199,
    "start_time": "2024-02-29T13:41:58.946Z"
   },
   {
    "duration": 7,
    "start_time": "2024-02-29T13:43:18.148Z"
   },
   {
    "duration": 45,
    "start_time": "2024-02-29T13:43:18.156Z"
   },
   {
    "duration": 1697,
    "start_time": "2024-02-29T13:43:18.202Z"
   },
   {
    "duration": 7143,
    "start_time": "2024-02-29T13:43:19.901Z"
   },
   {
    "duration": 270,
    "start_time": "2024-02-29T13:43:27.046Z"
   },
   {
    "duration": 19,
    "start_time": "2024-02-29T13:43:27.317Z"
   },
   {
    "duration": 0,
    "start_time": "2024-02-29T13:43:27.337Z"
   },
   {
    "duration": 0,
    "start_time": "2024-02-29T13:43:27.338Z"
   },
   {
    "duration": 0,
    "start_time": "2024-02-29T13:43:27.339Z"
   },
   {
    "duration": 0,
    "start_time": "2024-02-29T13:43:27.340Z"
   },
   {
    "duration": 0,
    "start_time": "2024-02-29T13:43:27.341Z"
   },
   {
    "duration": 0,
    "start_time": "2024-02-29T13:43:27.342Z"
   },
   {
    "duration": 0,
    "start_time": "2024-02-29T13:43:27.343Z"
   },
   {
    "duration": 0,
    "start_time": "2024-02-29T13:43:27.345Z"
   },
   {
    "duration": 0,
    "start_time": "2024-02-29T13:43:27.345Z"
   },
   {
    "duration": 0,
    "start_time": "2024-02-29T13:43:27.346Z"
   },
   {
    "duration": 17,
    "start_time": "2024-02-29T13:43:41.705Z"
   },
   {
    "duration": 19,
    "start_time": "2024-02-29T13:45:19.146Z"
   },
   {
    "duration": 9855,
    "start_time": "2024-02-29T13:45:29.154Z"
   },
   {
    "duration": 9522,
    "start_time": "2024-02-29T13:47:42.894Z"
   },
   {
    "duration": 58,
    "start_time": "2024-02-29T13:47:52.419Z"
   },
   {
    "duration": 3234,
    "start_time": "2024-02-29T13:47:52.479Z"
   },
   {
    "duration": 868,
    "start_time": "2024-02-29T13:47:55.714Z"
   },
   {
    "duration": 269,
    "start_time": "2024-02-29T13:47:56.584Z"
   },
   {
    "duration": 38,
    "start_time": "2024-02-29T13:47:56.855Z"
   },
   {
    "duration": 648,
    "start_time": "2024-02-29T13:47:56.894Z"
   },
   {
    "duration": 2167,
    "start_time": "2024-02-29T13:47:57.543Z"
   },
   {
    "duration": 79125,
    "start_time": "2024-02-29T13:47:59.712Z"
   },
   {
    "duration": 7,
    "start_time": "2024-02-29T13:49:18.838Z"
   },
   {
    "duration": 4,
    "start_time": "2024-02-29T13:49:18.847Z"
   },
   {
    "duration": 36,
    "start_time": "2024-02-29T13:49:18.852Z"
   },
   {
    "duration": 5377,
    "start_time": "2024-02-29T13:49:18.890Z"
   },
   {
    "duration": 1338,
    "start_time": "2024-02-29T13:49:24.270Z"
   },
   {
    "duration": 191,
    "start_time": "2024-02-29T13:49:25.610Z"
   },
   {
    "duration": 0,
    "start_time": "2024-02-29T13:49:25.803Z"
   },
   {
    "duration": 0,
    "start_time": "2024-02-29T13:49:25.804Z"
   },
   {
    "duration": 0,
    "start_time": "2024-02-29T13:49:25.805Z"
   },
   {
    "duration": 0,
    "start_time": "2024-02-29T13:49:25.806Z"
   },
   {
    "duration": 0,
    "start_time": "2024-02-29T13:49:25.807Z"
   },
   {
    "duration": 0,
    "start_time": "2024-02-29T13:49:25.808Z"
   },
   {
    "duration": 0,
    "start_time": "2024-02-29T13:49:25.809Z"
   },
   {
    "duration": 0,
    "start_time": "2024-02-29T13:49:25.810Z"
   },
   {
    "duration": 0,
    "start_time": "2024-02-29T13:49:25.811Z"
   },
   {
    "duration": 0,
    "start_time": "2024-02-29T13:49:25.812Z"
   },
   {
    "duration": 23,
    "start_time": "2024-02-29T13:54:33.293Z"
   },
   {
    "duration": 3494,
    "start_time": "2024-02-29T13:54:36.997Z"
   },
   {
    "duration": 3389,
    "start_time": "2024-02-29T13:54:42.268Z"
   },
   {
    "duration": 215,
    "start_time": "2024-02-29T13:54:48.967Z"
   },
   {
    "duration": 24,
    "start_time": "2024-02-29T13:56:33.272Z"
   },
   {
    "duration": 11,
    "start_time": "2024-02-29T13:56:53.437Z"
   },
   {
    "duration": 9718,
    "start_time": "2024-02-29T13:57:37.487Z"
   },
   {
    "duration": 57,
    "start_time": "2024-02-29T13:57:47.207Z"
   },
   {
    "duration": 3289,
    "start_time": "2024-02-29T13:57:47.265Z"
   },
   {
    "duration": 895,
    "start_time": "2024-02-29T13:57:50.557Z"
   },
   {
    "duration": 281,
    "start_time": "2024-02-29T13:57:51.454Z"
   },
   {
    "duration": 27,
    "start_time": "2024-02-29T13:57:51.737Z"
   },
   {
    "duration": 654,
    "start_time": "2024-02-29T13:57:51.766Z"
   },
   {
    "duration": 2147,
    "start_time": "2024-02-29T13:57:52.421Z"
   },
   {
    "duration": 79184,
    "start_time": "2024-02-29T13:57:54.570Z"
   },
   {
    "duration": 7,
    "start_time": "2024-02-29T13:59:13.757Z"
   },
   {
    "duration": 200,
    "start_time": "2024-02-29T13:59:13.766Z"
   },
   {
    "duration": 0,
    "start_time": "2024-02-29T13:59:13.968Z"
   },
   {
    "duration": 0,
    "start_time": "2024-02-29T13:59:13.970Z"
   },
   {
    "duration": 0,
    "start_time": "2024-02-29T13:59:13.971Z"
   },
   {
    "duration": 0,
    "start_time": "2024-02-29T13:59:13.973Z"
   },
   {
    "duration": 0,
    "start_time": "2024-02-29T13:59:13.987Z"
   },
   {
    "duration": 0,
    "start_time": "2024-02-29T13:59:13.988Z"
   },
   {
    "duration": 0,
    "start_time": "2024-02-29T13:59:13.989Z"
   },
   {
    "duration": 0,
    "start_time": "2024-02-29T13:59:13.990Z"
   },
   {
    "duration": 0,
    "start_time": "2024-02-29T13:59:13.992Z"
   },
   {
    "duration": 0,
    "start_time": "2024-02-29T13:59:13.993Z"
   },
   {
    "duration": 0,
    "start_time": "2024-02-29T13:59:13.994Z"
   },
   {
    "duration": 0,
    "start_time": "2024-02-29T13:59:13.995Z"
   },
   {
    "duration": 0,
    "start_time": "2024-02-29T13:59:13.996Z"
   },
   {
    "duration": 0,
    "start_time": "2024-02-29T13:59:13.997Z"
   },
   {
    "duration": 11,
    "start_time": "2024-02-29T13:59:32.768Z"
   },
   {
    "duration": 2249,
    "start_time": "2024-02-29T13:59:42.810Z"
   },
   {
    "duration": 153,
    "start_time": "2024-02-29T13:59:52.962Z"
   },
   {
    "duration": 9978,
    "start_time": "2024-02-29T13:59:57.647Z"
   },
   {
    "duration": 71,
    "start_time": "2024-02-29T14:00:07.628Z"
   },
   {
    "duration": 3363,
    "start_time": "2024-02-29T14:00:07.701Z"
   },
   {
    "duration": 3199,
    "start_time": "2024-02-29T14:00:11.066Z"
   },
   {
    "duration": 288,
    "start_time": "2024-02-29T14:00:14.266Z"
   },
   {
    "duration": 40,
    "start_time": "2024-02-29T14:00:14.555Z"
   },
   {
    "duration": 630,
    "start_time": "2024-02-29T14:00:14.596Z"
   },
   {
    "duration": 2179,
    "start_time": "2024-02-29T14:00:15.228Z"
   },
   {
    "duration": 81285,
    "start_time": "2024-02-29T14:00:17.408Z"
   },
   {
    "duration": 7,
    "start_time": "2024-02-29T14:01:38.696Z"
   },
   {
    "duration": 2101,
    "start_time": "2024-02-29T14:01:38.704Z"
   },
   {
    "duration": 9786,
    "start_time": "2024-02-29T14:03:09.011Z"
   },
   {
    "duration": 488,
    "start_time": "2024-02-29T14:03:18.799Z"
   },
   {
    "duration": 6346,
    "start_time": "2024-02-29T14:03:19.289Z"
   },
   {
    "duration": 3161,
    "start_time": "2024-02-29T14:03:25.638Z"
   },
   {
    "duration": 291,
    "start_time": "2024-02-29T14:03:28.801Z"
   },
   {
    "duration": 27,
    "start_time": "2024-02-29T14:03:29.093Z"
   },
   {
    "duration": 661,
    "start_time": "2024-02-29T14:03:29.122Z"
   },
   {
    "duration": 128660,
    "start_time": "2024-02-29T14:03:29.788Z"
   },
   {
    "duration": 2175,
    "start_time": "2024-02-29T14:05:38.450Z"
   },
   {
    "duration": 7,
    "start_time": "2024-02-29T14:05:40.628Z"
   },
   {
    "duration": 5,
    "start_time": "2024-02-29T14:05:40.637Z"
   },
   {
    "duration": 24,
    "start_time": "2024-02-29T14:05:40.644Z"
   },
   {
    "duration": 5780,
    "start_time": "2024-02-29T14:05:40.669Z"
   },
   {
    "duration": 1347,
    "start_time": "2024-02-29T14:05:46.450Z"
   },
   {
    "duration": 195,
    "start_time": "2024-02-29T14:05:47.799Z"
   },
   {
    "duration": 0,
    "start_time": "2024-02-29T14:05:47.995Z"
   },
   {
    "duration": 0,
    "start_time": "2024-02-29T14:05:47.997Z"
   },
   {
    "duration": 0,
    "start_time": "2024-02-29T14:05:47.998Z"
   },
   {
    "duration": 0,
    "start_time": "2024-02-29T14:05:47.999Z"
   },
   {
    "duration": 0,
    "start_time": "2024-02-29T14:05:48.001Z"
   },
   {
    "duration": 0,
    "start_time": "2024-02-29T14:05:48.002Z"
   },
   {
    "duration": 0,
    "start_time": "2024-02-29T14:05:48.003Z"
   },
   {
    "duration": 0,
    "start_time": "2024-02-29T14:05:48.004Z"
   },
   {
    "duration": 0,
    "start_time": "2024-02-29T14:05:48.006Z"
   },
   {
    "duration": 0,
    "start_time": "2024-02-29T14:05:48.007Z"
   },
   {
    "duration": 79488,
    "start_time": "2024-02-29T14:06:15.541Z"
   },
   {
    "duration": 1363,
    "start_time": "2024-02-29T14:07:40.877Z"
   },
   {
    "duration": 142,
    "start_time": "2024-02-29T14:12:05.515Z"
   },
   {
    "duration": 9607,
    "start_time": "2024-02-29T14:12:49.273Z"
   },
   {
    "duration": 114,
    "start_time": "2024-02-29T14:12:58.883Z"
   },
   {
    "duration": 4008,
    "start_time": "2024-02-29T14:12:58.998Z"
   },
   {
    "duration": 884,
    "start_time": "2024-02-29T14:13:03.008Z"
   },
   {
    "duration": 279,
    "start_time": "2024-02-29T14:13:03.898Z"
   },
   {
    "duration": 26,
    "start_time": "2024-02-29T14:13:04.187Z"
   },
   {
    "duration": 661,
    "start_time": "2024-02-29T14:13:04.214Z"
   },
   {
    "duration": 128519,
    "start_time": "2024-02-29T14:13:04.876Z"
   },
   {
    "duration": 2231,
    "start_time": "2024-02-29T14:15:13.396Z"
   },
   {
    "duration": 7,
    "start_time": "2024-02-29T14:15:15.628Z"
   },
   {
    "duration": 14,
    "start_time": "2024-02-29T14:15:15.636Z"
   },
   {
    "duration": 27,
    "start_time": "2024-02-29T14:15:15.651Z"
   },
   {
    "duration": 5387,
    "start_time": "2024-02-29T14:15:15.680Z"
   },
   {
    "duration": 1395,
    "start_time": "2024-02-29T14:15:21.070Z"
   },
   {
    "duration": 206,
    "start_time": "2024-02-29T14:15:22.467Z"
   },
   {
    "duration": 0,
    "start_time": "2024-02-29T14:15:22.675Z"
   },
   {
    "duration": 0,
    "start_time": "2024-02-29T14:15:22.676Z"
   },
   {
    "duration": 0,
    "start_time": "2024-02-29T14:15:22.687Z"
   },
   {
    "duration": 0,
    "start_time": "2024-02-29T14:15:22.688Z"
   },
   {
    "duration": 0,
    "start_time": "2024-02-29T14:15:22.689Z"
   },
   {
    "duration": 0,
    "start_time": "2024-02-29T14:15:22.690Z"
   },
   {
    "duration": 0,
    "start_time": "2024-02-29T14:15:22.691Z"
   },
   {
    "duration": 0,
    "start_time": "2024-02-29T14:15:22.692Z"
   },
   {
    "duration": 0,
    "start_time": "2024-02-29T14:15:22.693Z"
   },
   {
    "duration": 0,
    "start_time": "2024-02-29T14:15:22.694Z"
   },
   {
    "duration": 176,
    "start_time": "2024-02-29T14:19:05.582Z"
   },
   {
    "duration": 19,
    "start_time": "2024-02-29T14:19:17.802Z"
   },
   {
    "duration": 17,
    "start_time": "2024-02-29T14:20:28.141Z"
   },
   {
    "duration": 16,
    "start_time": "2024-02-29T14:20:41.760Z"
   },
   {
    "duration": 9655,
    "start_time": "2024-02-29T14:33:38.280Z"
   },
   {
    "duration": 56,
    "start_time": "2024-02-29T14:33:47.937Z"
   },
   {
    "duration": 3165,
    "start_time": "2024-02-29T14:33:47.995Z"
   },
   {
    "duration": 894,
    "start_time": "2024-02-29T14:33:51.162Z"
   },
   {
    "duration": 272,
    "start_time": "2024-02-29T14:33:52.057Z"
   },
   {
    "duration": 31,
    "start_time": "2024-02-29T14:33:52.330Z"
   },
   {
    "duration": 638,
    "start_time": "2024-02-29T14:33:52.362Z"
   },
   {
    "duration": 129392,
    "start_time": "2024-02-29T14:33:53.001Z"
   },
   {
    "duration": 2268,
    "start_time": "2024-02-29T14:36:02.394Z"
   },
   {
    "duration": 7,
    "start_time": "2024-02-29T14:36:04.665Z"
   },
   {
    "duration": 10,
    "start_time": "2024-02-29T14:36:04.674Z"
   },
   {
    "duration": 22,
    "start_time": "2024-02-29T14:36:04.688Z"
   },
   {
    "duration": 5293,
    "start_time": "2024-02-29T14:36:04.711Z"
   },
   {
    "duration": 1310,
    "start_time": "2024-02-29T14:36:10.006Z"
   },
   {
    "duration": 192,
    "start_time": "2024-02-29T14:36:11.318Z"
   },
   {
    "duration": 0,
    "start_time": "2024-02-29T14:36:11.512Z"
   },
   {
    "duration": 0,
    "start_time": "2024-02-29T14:36:11.513Z"
   },
   {
    "duration": 0,
    "start_time": "2024-02-29T14:36:11.514Z"
   },
   {
    "duration": 0,
    "start_time": "2024-02-29T14:36:11.516Z"
   },
   {
    "duration": 0,
    "start_time": "2024-02-29T14:36:11.517Z"
   },
   {
    "duration": 0,
    "start_time": "2024-02-29T14:36:11.519Z"
   },
   {
    "duration": 0,
    "start_time": "2024-02-29T14:36:11.520Z"
   },
   {
    "duration": 0,
    "start_time": "2024-02-29T14:36:11.521Z"
   },
   {
    "duration": 0,
    "start_time": "2024-02-29T14:36:11.523Z"
   },
   {
    "duration": 0,
    "start_time": "2024-02-29T14:36:11.524Z"
   },
   {
    "duration": 13,
    "start_time": "2024-02-29T14:36:48.887Z"
   },
   {
    "duration": 13,
    "start_time": "2024-02-29T14:36:54.230Z"
   },
   {
    "duration": 19,
    "start_time": "2024-02-29T14:37:01.460Z"
   },
   {
    "duration": 5,
    "start_time": "2024-02-29T14:39:01.241Z"
   },
   {
    "duration": 9956,
    "start_time": "2024-02-29T14:42:31.285Z"
   },
   {
    "duration": 59,
    "start_time": "2024-02-29T14:42:41.243Z"
   },
   {
    "duration": 3303,
    "start_time": "2024-02-29T14:42:41.304Z"
   },
   {
    "duration": 910,
    "start_time": "2024-02-29T14:42:44.609Z"
   },
   {
    "duration": 290,
    "start_time": "2024-02-29T14:42:45.521Z"
   },
   {
    "duration": 27,
    "start_time": "2024-02-29T14:42:45.813Z"
   },
   {
    "duration": 707,
    "start_time": "2024-02-29T14:42:45.842Z"
   },
   {
    "duration": 131837,
    "start_time": "2024-02-29T14:42:46.550Z"
   },
   {
    "duration": 2228,
    "start_time": "2024-02-29T14:44:58.388Z"
   },
   {
    "duration": 7,
    "start_time": "2024-02-29T14:45:00.619Z"
   },
   {
    "duration": 97,
    "start_time": "2024-02-29T14:45:00.628Z"
   },
   {
    "duration": 101,
    "start_time": "2024-02-29T14:45:00.727Z"
   },
   {
    "duration": 107,
    "start_time": "2024-02-29T14:45:00.830Z"
   },
   {
    "duration": 111,
    "start_time": "2024-02-29T14:45:00.938Z"
   },
   {
    "duration": 0,
    "start_time": "2024-02-29T14:45:01.051Z"
   },
   {
    "duration": 0,
    "start_time": "2024-02-29T14:45:01.053Z"
   },
   {
    "duration": 0,
    "start_time": "2024-02-29T14:45:01.054Z"
   },
   {
    "duration": 0,
    "start_time": "2024-02-29T14:45:01.055Z"
   },
   {
    "duration": 0,
    "start_time": "2024-02-29T14:45:01.056Z"
   },
   {
    "duration": 0,
    "start_time": "2024-02-29T14:45:01.057Z"
   },
   {
    "duration": 0,
    "start_time": "2024-02-29T14:45:01.059Z"
   },
   {
    "duration": 0,
    "start_time": "2024-02-29T14:45:01.059Z"
   },
   {
    "duration": 0,
    "start_time": "2024-02-29T14:45:01.060Z"
   },
   {
    "duration": 0,
    "start_time": "2024-02-29T14:45:01.062Z"
   },
   {
    "duration": 0,
    "start_time": "2024-02-29T14:45:01.063Z"
   },
   {
    "duration": 0,
    "start_time": "2024-02-29T14:45:01.064Z"
   },
   {
    "duration": 0,
    "start_time": "2024-02-29T14:45:01.065Z"
   },
   {
    "duration": 0,
    "start_time": "2024-02-29T14:45:01.066Z"
   },
   {
    "duration": 5291,
    "start_time": "2024-02-29T14:45:30.427Z"
   },
   {
    "duration": 110,
    "start_time": "2024-02-29T14:45:38.219Z"
   },
   {
    "duration": 1331,
    "start_time": "2024-02-29T14:45:42.384Z"
   },
   {
    "duration": 5,
    "start_time": "2024-02-29T14:46:02.080Z"
   },
   {
    "duration": 4,
    "start_time": "2024-02-29T14:46:17.795Z"
   },
   {
    "duration": 347,
    "start_time": "2024-02-29T14:46:30.751Z"
   },
   {
    "duration": 129,
    "start_time": "2024-02-29T14:47:40.978Z"
   },
   {
    "duration": 18,
    "start_time": "2024-02-29T14:47:45.586Z"
   },
   {
    "duration": 9972,
    "start_time": "2024-02-29T14:49:07.451Z"
   },
   {
    "duration": 59,
    "start_time": "2024-02-29T14:49:17.426Z"
   },
   {
    "duration": 3235,
    "start_time": "2024-02-29T14:49:17.487Z"
   },
   {
    "duration": 883,
    "start_time": "2024-02-29T14:49:20.724Z"
   },
   {
    "duration": 290,
    "start_time": "2024-02-29T14:49:21.609Z"
   },
   {
    "duration": 27,
    "start_time": "2024-02-29T14:49:21.901Z"
   },
   {
    "duration": 657,
    "start_time": "2024-02-29T14:49:21.929Z"
   },
   {
    "duration": 128793,
    "start_time": "2024-02-29T14:49:22.587Z"
   },
   {
    "duration": 2203,
    "start_time": "2024-02-29T14:51:31.387Z"
   },
   {
    "duration": 7,
    "start_time": "2024-02-29T14:51:33.593Z"
   },
   {
    "duration": 19,
    "start_time": "2024-02-29T14:51:33.602Z"
   },
   {
    "duration": 7,
    "start_time": "2024-02-29T14:51:33.623Z"
   },
   {
    "duration": 27,
    "start_time": "2024-02-29T14:51:33.632Z"
   },
   {
    "duration": 5609,
    "start_time": "2024-02-29T14:51:33.660Z"
   },
   {
    "duration": 1380,
    "start_time": "2024-02-29T14:51:39.271Z"
   },
   {
    "duration": 189,
    "start_time": "2024-02-29T14:51:40.652Z"
   },
   {
    "duration": 0,
    "start_time": "2024-02-29T14:51:40.842Z"
   },
   {
    "duration": 0,
    "start_time": "2024-02-29T14:51:40.844Z"
   },
   {
    "duration": 0,
    "start_time": "2024-02-29T14:51:40.845Z"
   },
   {
    "duration": 0,
    "start_time": "2024-02-29T14:51:40.846Z"
   },
   {
    "duration": 0,
    "start_time": "2024-02-29T14:51:40.847Z"
   },
   {
    "duration": 0,
    "start_time": "2024-02-29T14:51:40.848Z"
   },
   {
    "duration": 0,
    "start_time": "2024-02-29T14:51:40.849Z"
   },
   {
    "duration": 0,
    "start_time": "2024-02-29T14:51:40.850Z"
   },
   {
    "duration": 0,
    "start_time": "2024-02-29T14:51:40.851Z"
   },
   {
    "duration": 0,
    "start_time": "2024-02-29T14:51:40.852Z"
   },
   {
    "duration": 9893,
    "start_time": "2024-02-29T15:01:38.240Z"
   },
   {
    "duration": 56,
    "start_time": "2024-02-29T15:01:48.135Z"
   },
   {
    "duration": 4254,
    "start_time": "2024-02-29T15:01:48.193Z"
   },
   {
    "duration": 900,
    "start_time": "2024-02-29T15:01:52.449Z"
   },
   {
    "duration": 273,
    "start_time": "2024-02-29T15:01:53.351Z"
   },
   {
    "duration": 27,
    "start_time": "2024-02-29T15:01:53.626Z"
   },
   {
    "duration": 661,
    "start_time": "2024-02-29T15:01:53.654Z"
   },
   {
    "duration": 130567,
    "start_time": "2024-02-29T15:01:54.317Z"
   },
   {
    "duration": 2221,
    "start_time": "2024-02-29T15:04:04.886Z"
   },
   {
    "duration": 7,
    "start_time": "2024-02-29T15:04:07.109Z"
   },
   {
    "duration": 28,
    "start_time": "2024-02-29T15:04:07.118Z"
   },
   {
    "duration": 39,
    "start_time": "2024-02-29T15:04:07.148Z"
   },
   {
    "duration": 61,
    "start_time": "2024-02-29T15:04:07.188Z"
   },
   {
    "duration": 7232,
    "start_time": "2024-02-29T15:04:07.251Z"
   },
   {
    "duration": 224,
    "start_time": "2024-02-29T15:04:14.485Z"
   },
   {
    "duration": 3,
    "start_time": "2024-02-29T15:04:14.710Z"
   },
   {
    "duration": 24,
    "start_time": "2024-02-29T15:04:14.715Z"
   },
   {
    "duration": 5,
    "start_time": "2024-02-29T15:04:14.741Z"
   },
   {
    "duration": 4,
    "start_time": "2024-02-29T15:04:14.748Z"
   },
   {
    "duration": 9,
    "start_time": "2024-02-29T15:04:14.753Z"
   },
   {
    "duration": 7,
    "start_time": "2024-02-29T15:04:14.764Z"
   },
   {
    "duration": 27,
    "start_time": "2024-02-29T15:04:14.772Z"
   },
   {
    "duration": 14,
    "start_time": "2024-02-29T15:04:14.800Z"
   },
   {
    "duration": 8,
    "start_time": "2024-02-29T15:04:14.816Z"
   },
   {
    "duration": 4,
    "start_time": "2024-02-29T15:04:14.826Z"
   },
   {
    "duration": 9,
    "start_time": "2024-02-29T15:04:14.831Z"
   },
   {
    "duration": 149,
    "start_time": "2024-02-29T15:04:53.400Z"
   },
   {
    "duration": 263,
    "start_time": "2024-02-29T15:06:18.579Z"
   },
   {
    "duration": 22,
    "start_time": "2024-02-29T15:07:10.000Z"
   },
   {
    "duration": 6958,
    "start_time": "2024-02-29T15:07:12.306Z"
   },
   {
    "duration": 267,
    "start_time": "2024-02-29T15:07:27.306Z"
   },
   {
    "duration": 20,
    "start_time": "2024-02-29T15:08:15.543Z"
   },
   {
    "duration": 6577,
    "start_time": "2024-02-29T15:08:17.743Z"
   },
   {
    "duration": 263,
    "start_time": "2024-02-29T15:08:26.536Z"
   },
   {
    "duration": 20,
    "start_time": "2024-02-29T15:10:08.521Z"
   },
   {
    "duration": 6544,
    "start_time": "2024-02-29T15:10:11.130Z"
   },
   {
    "duration": 137,
    "start_time": "2024-02-29T15:10:25.680Z"
   },
   {
    "duration": 21,
    "start_time": "2024-02-29T15:11:00.056Z"
   },
   {
    "duration": 6997,
    "start_time": "2024-02-29T15:11:02.179Z"
   },
   {
    "duration": 694,
    "start_time": "2024-02-29T15:11:18.604Z"
   },
   {
    "duration": 668,
    "start_time": "2024-02-29T15:12:33.240Z"
   },
   {
    "duration": 180,
    "start_time": "2024-02-29T15:14:32.769Z"
   },
   {
    "duration": 10116,
    "start_time": "2024-02-29T15:16:28.172Z"
   },
   {
    "duration": 56,
    "start_time": "2024-02-29T15:16:38.290Z"
   },
   {
    "duration": 3255,
    "start_time": "2024-02-29T15:16:38.347Z"
   },
   {
    "duration": 882,
    "start_time": "2024-02-29T15:16:41.604Z"
   },
   {
    "duration": 273,
    "start_time": "2024-02-29T15:16:42.488Z"
   },
   {
    "duration": 40,
    "start_time": "2024-02-29T15:16:42.762Z"
   },
   {
    "duration": 678,
    "start_time": "2024-02-29T15:16:42.803Z"
   },
   {
    "duration": 129879,
    "start_time": "2024-02-29T15:16:43.482Z"
   },
   {
    "duration": 2229,
    "start_time": "2024-02-29T15:18:53.362Z"
   },
   {
    "duration": 533,
    "start_time": "2024-02-29T15:18:55.593Z"
   },
   {
    "duration": 7,
    "start_time": "2024-02-29T15:18:56.127Z"
   },
   {
    "duration": 28,
    "start_time": "2024-02-29T15:18:56.136Z"
   },
   {
    "duration": 25,
    "start_time": "2024-02-29T15:18:56.166Z"
   },
   {
    "duration": 39,
    "start_time": "2024-02-29T15:18:56.192Z"
   },
   {
    "duration": 6454,
    "start_time": "2024-02-29T15:18:56.233Z"
   },
   {
    "duration": 848,
    "start_time": "2024-02-29T15:19:02.689Z"
   },
   {
    "duration": 3,
    "start_time": "2024-02-29T15:19:03.538Z"
   },
   {
    "duration": 12,
    "start_time": "2024-02-29T15:19:03.542Z"
   },
   {
    "duration": 30,
    "start_time": "2024-02-29T15:19:03.556Z"
   },
   {
    "duration": 16,
    "start_time": "2024-02-29T15:19:03.588Z"
   },
   {
    "duration": 17,
    "start_time": "2024-02-29T15:19:03.605Z"
   },
   {
    "duration": 10,
    "start_time": "2024-02-29T15:19:03.623Z"
   },
   {
    "duration": 35,
    "start_time": "2024-02-29T15:19:03.635Z"
   },
   {
    "duration": 20,
    "start_time": "2024-02-29T15:19:03.671Z"
   },
   {
    "duration": 20,
    "start_time": "2024-02-29T15:19:03.693Z"
   },
   {
    "duration": 33,
    "start_time": "2024-02-29T15:19:03.714Z"
   },
   {
    "duration": 17,
    "start_time": "2024-02-29T15:19:03.749Z"
   },
   {
    "duration": 402888,
    "start_time": "2024-02-29T15:22:29.007Z"
   },
   {
    "duration": 387,
    "start_time": "2024-02-29T15:32:16.435Z"
   },
   {
    "duration": 268,
    "start_time": "2024-02-29T15:33:39.985Z"
   },
   {
    "duration": 387,
    "start_time": "2024-02-29T15:35:05.318Z"
   },
   {
    "duration": 25,
    "start_time": "2024-02-29T15:40:28.138Z"
   },
   {
    "duration": 4,
    "start_time": "2024-02-29T15:40:32.335Z"
   },
   {
    "duration": 25,
    "start_time": "2024-02-29T15:40:58.471Z"
   },
   {
    "duration": 122,
    "start_time": "2024-02-29T15:41:01.654Z"
   },
   {
    "duration": 7771,
    "start_time": "2024-02-29T15:41:54.979Z"
   },
   {
    "duration": 7558,
    "start_time": "2024-02-29T15:42:08.152Z"
   },
   {
    "duration": 154909,
    "start_time": "2024-02-29T15:42:22.699Z"
   },
   {
    "duration": 152193,
    "start_time": "2024-02-29T15:45:49.317Z"
   },
   {
    "duration": 84635,
    "start_time": "2024-02-29T15:50:57.938Z"
   },
   {
    "duration": 90415,
    "start_time": "2024-02-29T15:52:43.936Z"
   },
   {
    "duration": 7,
    "start_time": "2024-02-29T15:56:02.136Z"
   },
   {
    "duration": 162,
    "start_time": "2024-02-29T15:57:48.064Z"
   },
   {
    "duration": 8,
    "start_time": "2024-02-29T15:58:11.355Z"
   },
   {
    "duration": 56118,
    "start_time": "2024-02-29T15:58:41.271Z"
   },
   {
    "duration": 959053,
    "start_time": "2024-02-29T16:00:02.906Z"
   },
   {
    "duration": 8,
    "start_time": "2024-02-29T16:18:20.117Z"
   },
   {
    "duration": 6,
    "start_time": "2024-02-29T16:18:22.887Z"
   },
   {
    "duration": 7,
    "start_time": "2024-02-29T16:18:40.081Z"
   },
   {
    "duration": 56046,
    "start_time": "2024-02-29T16:18:43.850Z"
   },
   {
    "duration": 115100,
    "start_time": "2024-02-29T16:19:53.173Z"
   },
   {
    "duration": 254,
    "start_time": "2024-02-29T16:24:00.934Z"
   },
   {
    "duration": 175,
    "start_time": "2024-02-29T16:25:05.997Z"
   },
   {
    "duration": 144,
    "start_time": "2024-02-29T16:25:11.942Z"
   },
   {
    "duration": 137,
    "start_time": "2024-02-29T16:25:37.555Z"
   },
   {
    "duration": 131,
    "start_time": "2024-02-29T16:25:55.349Z"
   },
   {
    "duration": 197,
    "start_time": "2024-02-29T16:26:53.964Z"
   },
   {
    "duration": 139,
    "start_time": "2024-02-29T16:27:17.637Z"
   },
   {
    "duration": 134,
    "start_time": "2024-02-29T16:28:15.611Z"
   },
   {
    "duration": 143,
    "start_time": "2024-02-29T16:28:21.251Z"
   },
   {
    "duration": 134,
    "start_time": "2024-02-29T16:28:51.499Z"
   },
   {
    "duration": 168,
    "start_time": "2024-02-29T16:30:44.004Z"
   },
   {
    "duration": 166,
    "start_time": "2024-02-29T16:32:15.523Z"
   },
   {
    "duration": 145,
    "start_time": "2024-02-29T16:32:39.232Z"
   },
   {
    "duration": 24,
    "start_time": "2024-02-29T16:33:24.228Z"
   },
   {
    "duration": 7927,
    "start_time": "2024-02-29T16:33:26.629Z"
   },
   {
    "duration": 157,
    "start_time": "2024-02-29T16:33:37.217Z"
   },
   {
    "duration": 114,
    "start_time": "2024-02-29T16:34:51.591Z"
   },
   {
    "duration": 264,
    "start_time": "2024-02-29T16:35:02.506Z"
   },
   {
    "duration": 23,
    "start_time": "2024-02-29T16:35:35.588Z"
   },
   {
    "duration": 7921,
    "start_time": "2024-02-29T16:35:37.512Z"
   },
   {
    "duration": 238,
    "start_time": "2024-02-29T16:35:47.896Z"
   },
   {
    "duration": 52374,
    "start_time": "2024-02-29T16:37:20.922Z"
   },
   {
    "duration": 53028,
    "start_time": "2024-02-29T16:38:39.168Z"
   },
   {
    "duration": 132711,
    "start_time": "2024-02-29T16:39:35.691Z"
   },
   {
    "duration": 11233,
    "start_time": "2024-02-29T20:53:39.338Z"
   },
   {
    "duration": 59,
    "start_time": "2024-02-29T20:53:50.574Z"
   },
   {
    "duration": 3590,
    "start_time": "2024-02-29T20:53:50.635Z"
   },
   {
    "duration": 3472,
    "start_time": "2024-02-29T20:53:54.228Z"
   },
   {
    "duration": 298,
    "start_time": "2024-02-29T20:53:57.701Z"
   },
   {
    "duration": 33,
    "start_time": "2024-02-29T20:53:58.000Z"
   },
   {
    "duration": 674,
    "start_time": "2024-02-29T20:53:58.035Z"
   },
   {
    "duration": 138295,
    "start_time": "2024-02-29T20:53:58.711Z"
   },
   {
    "duration": 2324,
    "start_time": "2024-02-29T20:56:17.008Z"
   },
   {
    "duration": 608,
    "start_time": "2024-02-29T20:56:19.335Z"
   },
   {
    "duration": 3,
    "start_time": "2024-02-29T20:56:19.944Z"
   },
   {
    "duration": 35,
    "start_time": "2024-02-29T20:56:19.949Z"
   },
   {
    "duration": 10,
    "start_time": "2024-02-29T20:56:19.985Z"
   },
   {
    "duration": 54999,
    "start_time": "2024-02-29T20:56:19.997Z"
   },
   {
    "duration": 392,
    "start_time": "2024-02-29T20:57:14.999Z"
   },
   {
    "duration": 76,
    "start_time": "2024-02-29T20:57:15.393Z"
   },
   {
    "duration": 136822,
    "start_time": "2024-02-29T20:57:36.416Z"
   },
   {
    "duration": 5,
    "start_time": "2024-02-29T21:03:14.409Z"
   },
   {
    "duration": 58200,
    "start_time": "2024-02-29T21:03:30.092Z"
   },
   {
    "duration": 59110,
    "start_time": "2024-02-29T21:05:05.939Z"
   },
   {
    "duration": 58742,
    "start_time": "2024-02-29T21:06:18.918Z"
   },
   {
    "duration": 57927,
    "start_time": "2024-02-29T21:08:07.507Z"
   },
   {
    "duration": 55897,
    "start_time": "2024-02-29T21:10:47.901Z"
   },
   {
    "duration": 33015,
    "start_time": "2024-02-29T21:11:57.455Z"
   },
   {
    "duration": 55585,
    "start_time": "2024-02-29T21:13:24.208Z"
   },
   {
    "duration": 55876,
    "start_time": "2024-02-29T21:14:23.487Z"
   },
   {
    "duration": 16,
    "start_time": "2024-02-29T21:17:25.560Z"
   },
   {
    "duration": 5,
    "start_time": "2024-02-29T21:19:37.434Z"
   },
   {
    "duration": 119,
    "start_time": "2024-02-29T21:19:56.265Z"
   },
   {
    "duration": 365852,
    "start_time": "2024-02-29T21:20:08.065Z"
   },
   {
    "duration": 366035,
    "start_time": "2024-02-29T21:26:34.532Z"
   },
   {
    "duration": 55612,
    "start_time": "2024-02-29T21:32:47.793Z"
   },
   {
    "duration": 371831,
    "start_time": "2024-02-29T21:37:19.252Z"
   },
   {
    "duration": 190,
    "start_time": "2024-02-29T21:43:54.995Z"
   },
   {
    "duration": 4793,
    "start_time": "2024-02-29T21:44:15.239Z"
   },
   {
    "duration": 362940,
    "start_time": "2024-02-29T21:44:30.724Z"
   },
   {
    "duration": 162721,
    "start_time": "2024-02-29T21:50:44.415Z"
   },
   {
    "duration": 5,
    "start_time": "2024-02-29T21:54:47.404Z"
   },
   {
    "duration": 135,
    "start_time": "2024-02-29T21:56:49.211Z"
   },
   {
    "duration": 593278,
    "start_time": "2024-02-29T21:57:00.616Z"
   },
   {
    "duration": 764590,
    "start_time": "2024-02-29T22:07:10.626Z"
   },
   {
    "duration": 10643,
    "start_time": "2024-03-01T09:40:25.126Z"
   },
   {
    "duration": 270,
    "start_time": "2024-03-01T09:40:35.771Z"
   },
   {
    "duration": 3921,
    "start_time": "2024-03-01T09:40:36.042Z"
   },
   {
    "duration": 3370,
    "start_time": "2024-03-01T09:40:39.965Z"
   },
   {
    "duration": 277,
    "start_time": "2024-03-01T09:40:43.337Z"
   },
   {
    "duration": 26,
    "start_time": "2024-03-01T09:40:43.616Z"
   },
   {
    "duration": 607,
    "start_time": "2024-03-01T09:40:43.658Z"
   },
   {
    "duration": 123909,
    "start_time": "2024-03-01T09:40:44.266Z"
   },
   {
    "duration": 2105,
    "start_time": "2024-03-01T09:42:48.176Z"
   },
   {
    "duration": 529,
    "start_time": "2024-03-01T09:42:50.283Z"
   },
   {
    "duration": 3,
    "start_time": "2024-03-01T09:42:50.813Z"
   },
   {
    "duration": 26,
    "start_time": "2024-03-01T09:42:50.817Z"
   },
   {
    "duration": 55415,
    "start_time": "2024-03-01T09:42:50.845Z"
   },
   {
    "duration": 51110,
    "start_time": "2024-03-01T09:43:46.262Z"
   },
   {
    "duration": 4,
    "start_time": "2024-03-01T09:44:37.374Z"
   },
   {
    "duration": 320586,
    "start_time": "2024-03-01T09:44:37.379Z"
   },
   {
    "duration": 148180,
    "start_time": "2024-03-01T09:49:57.966Z"
   },
   {
    "duration": 4,
    "start_time": "2024-03-01T09:52:26.147Z"
   },
   {
    "duration": 499613,
    "start_time": "2024-03-01T09:52:26.152Z"
   },
   {
    "duration": 732255,
    "start_time": "2024-03-01T10:00:45.766Z"
   },
   {
    "duration": 4,
    "start_time": "2024-03-01T10:12:58.023Z"
   },
   {
    "duration": 9,
    "start_time": "2024-03-01T10:12:58.028Z"
   },
   {
    "duration": 495602,
    "start_time": "2024-03-01T10:16:13.511Z"
   },
   {
    "duration": 1348931,
    "start_time": "2024-03-01T10:24:40.872Z"
   },
   {
    "duration": 4,
    "start_time": "2024-03-01T10:47:15.849Z"
   },
   {
    "duration": 1018690,
    "start_time": "2024-03-01T10:47:19.458Z"
   },
   {
    "duration": 4,
    "start_time": "2024-03-01T11:04:24.244Z"
   },
   {
    "duration": 77855,
    "start_time": "2024-03-01T11:04:26.932Z"
   },
   {
    "duration": 27,
    "start_time": "2024-03-01T11:05:47.253Z"
   },
   {
    "duration": 4,
    "start_time": "2024-03-01T11:05:49.654Z"
   },
   {
    "duration": 144931,
    "start_time": "2024-03-01T11:05:53.640Z"
   },
   {
    "duration": 4,
    "start_time": "2024-03-01T11:08:36.470Z"
   },
   {
    "duration": 636392,
    "start_time": "2024-03-01T11:08:39.327Z"
   },
   {
    "duration": 20,
    "start_time": "2024-03-01T11:19:29.886Z"
   },
   {
    "duration": 162,
    "start_time": "2024-03-01T11:19:36.444Z"
   },
   {
    "duration": 106,
    "start_time": "2024-03-01T11:19:43.131Z"
   },
   {
    "duration": 12,
    "start_time": "2024-03-01T11:21:54.852Z"
   },
   {
    "duration": 12,
    "start_time": "2024-03-01T11:22:27.030Z"
   },
   {
    "duration": 1233,
    "start_time": "2024-03-01T11:22:34.049Z"
   },
   {
    "duration": 1208,
    "start_time": "2024-03-01T11:23:44.200Z"
   },
   {
    "duration": 1331,
    "start_time": "2024-03-01T11:24:00.994Z"
   },
   {
    "duration": 147289,
    "start_time": "2024-03-01T11:26:01.782Z"
   },
   {
    "duration": 20,
    "start_time": "2024-03-01T11:29:40.431Z"
   },
   {
    "duration": 1363,
    "start_time": "2024-03-01T11:30:41.538Z"
   },
   {
    "duration": 103,
    "start_time": "2024-03-01T11:31:01.745Z"
   },
   {
    "duration": 137,
    "start_time": "2024-03-01T11:31:08.653Z"
   },
   {
    "duration": 1290,
    "start_time": "2024-03-01T11:31:19.514Z"
   },
   {
    "duration": 4,
    "start_time": "2024-03-01T11:33:35.345Z"
   },
   {
    "duration": 151,
    "start_time": "2024-03-01T11:33:50.298Z"
   },
   {
    "duration": 4,
    "start_time": "2024-03-01T11:34:28.653Z"
   },
   {
    "duration": 960105,
    "start_time": "2024-03-01T11:34:31.177Z"
   },
   {
    "duration": 18811,
    "start_time": "2024-03-01T11:50:40.462Z"
   },
   {
    "duration": 4,
    "start_time": "2024-03-01T11:51:07.187Z"
   },
   {
    "duration": 153,
    "start_time": "2024-03-01T11:51:10.300Z"
   },
   {
    "duration": 5,
    "start_time": "2024-03-01T11:52:43.120Z"
   },
   {
    "duration": 757911,
    "start_time": "2024-03-01T11:52:45.544Z"
   },
   {
    "duration": 9362,
    "start_time": "2024-03-01T13:20:17.347Z"
   },
   {
    "duration": 59,
    "start_time": "2024-03-01T13:20:26.712Z"
   },
   {
    "duration": 3194,
    "start_time": "2024-03-01T13:20:26.773Z"
   },
   {
    "duration": 899,
    "start_time": "2024-03-01T13:20:29.969Z"
   },
   {
    "duration": 292,
    "start_time": "2024-03-01T13:20:30.869Z"
   },
   {
    "duration": 29,
    "start_time": "2024-03-01T13:20:31.163Z"
   },
   {
    "duration": 669,
    "start_time": "2024-03-01T13:20:31.193Z"
   },
   {
    "duration": 123520,
    "start_time": "2024-03-01T13:20:31.864Z"
   },
   {
    "duration": 2112,
    "start_time": "2024-03-01T13:22:35.385Z"
   },
   {
    "duration": 526,
    "start_time": "2024-03-01T13:22:37.500Z"
   },
   {
    "duration": 3,
    "start_time": "2024-03-01T13:22:38.028Z"
   },
   {
    "duration": 32,
    "start_time": "2024-03-01T13:22:38.032Z"
   },
   {
    "duration": 5,
    "start_time": "2024-03-01T13:22:38.065Z"
   },
   {
    "duration": 391872,
    "start_time": "2024-03-01T13:22:38.071Z"
   },
   {
    "duration": 22,
    "start_time": "2024-03-01T13:29:09.944Z"
   },
   {
    "duration": 0,
    "start_time": "2024-03-01T13:29:09.968Z"
   },
   {
    "duration": 0,
    "start_time": "2024-03-01T13:29:09.969Z"
   },
   {
    "duration": 0,
    "start_time": "2024-03-01T13:29:09.970Z"
   },
   {
    "duration": 0,
    "start_time": "2024-03-01T13:29:09.971Z"
   },
   {
    "duration": 0,
    "start_time": "2024-03-01T13:29:09.972Z"
   },
   {
    "duration": 0,
    "start_time": "2024-03-01T13:29:09.973Z"
   },
   {
    "duration": 0,
    "start_time": "2024-03-01T13:29:09.974Z"
   },
   {
    "duration": 0,
    "start_time": "2024-03-01T13:29:09.975Z"
   },
   {
    "duration": 0,
    "start_time": "2024-03-01T13:29:09.976Z"
   },
   {
    "duration": 0,
    "start_time": "2024-03-01T13:29:09.977Z"
   },
   {
    "duration": 644219,
    "start_time": "2024-03-01T13:29:32.902Z"
   },
   {
    "duration": 4,
    "start_time": "2024-03-01T13:40:34.909Z"
   },
   {
    "duration": 1268,
    "start_time": "2024-03-01T13:40:38.324Z"
   },
   {
    "duration": 4,
    "start_time": "2024-03-01T13:40:55.312Z"
   },
   {
    "duration": 747618,
    "start_time": "2024-03-01T13:40:59.449Z"
   },
   {
    "duration": 4,
    "start_time": "2024-03-01T13:53:33.931Z"
   },
   {
    "duration": 1326,
    "start_time": "2024-03-01T13:53:36.038Z"
   },
   {
    "duration": 5,
    "start_time": "2024-03-01T14:07:50.652Z"
   },
   {
    "duration": 1386101,
    "start_time": "2024-03-01T14:07:52.889Z"
   },
   {
    "duration": 106,
    "start_time": "2024-03-01T14:31:34.534Z"
   },
   {
    "duration": 231,
    "start_time": "2024-03-01T14:31:52.149Z"
   },
   {
    "duration": 4,
    "start_time": "2024-03-01T14:31:57.761Z"
   },
   {
    "duration": 1203575,
    "start_time": "2024-03-01T14:32:00.750Z"
   },
   {
    "duration": 4,
    "start_time": "2024-03-01T14:52:06.316Z"
   }
  ],
  "kernelspec": {
   "display_name": "Python 3 (ipykernel)",
   "language": "python",
   "name": "python3"
  },
  "language_info": {
   "codemirror_mode": {
    "name": "ipython",
    "version": 3
   },
   "file_extension": ".py",
   "mimetype": "text/x-python",
   "name": "python",
   "nbconvert_exporter": "python",
   "pygments_lexer": "ipython3",
   "version": "3.11.5"
  },
  "toc": {
   "base_numbering": 1,
   "nav_menu": {},
   "number_sections": true,
   "sideBar": true,
   "skip_h1_title": true,
   "title_cell": "Содержание",
   "title_sidebar": "Contents",
   "toc_cell": true,
   "toc_position": {
    "height": "calc(100% - 180px)",
    "left": "10px",
    "top": "150px",
    "width": "302.391px"
   },
   "toc_section_display": true,
   "toc_window_display": true
  }
 },
 "nbformat": 4,
 "nbformat_minor": 4
}
